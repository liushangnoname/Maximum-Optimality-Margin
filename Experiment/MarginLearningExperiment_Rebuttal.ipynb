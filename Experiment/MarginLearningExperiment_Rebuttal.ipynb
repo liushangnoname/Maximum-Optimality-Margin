{
 "cells": [
  {
   "cell_type": "code",
   "execution_count": 1,
   "id": "0a7d9800",
   "metadata": {},
   "outputs": [],
   "source": [
    "import numpy as np\n",
    "import cvxpy as cp\n",
    "import sklearn\n",
    "import sklearn.datasets\n",
    "from sklearn.ensemble import RandomForestRegressor\n",
    "import gurobipy\n",
    "import mosek\n",
    "import matplotlib.pyplot as plt\n",
    "from multiprocessing import Pool\n",
    "import time\n",
    "import os\n",
    "import seaborn as sns\n",
    "import pandas as pd\n",
    "# My Code\n",
    "import LearningMethod as lm\n",
    "import DataGeneration as dg\n",
    "import LinearProgramMethod as lpm\n",
    "import OnlineMethod as om"
   ]
  },
  {
   "cell_type": "code",
   "execution_count": 270,
   "id": "56a665b4",
   "metadata": {},
   "outputs": [],
   "source": [
    "# Generate Fractional Knapsack Samples\n",
    "benchmark = 1\n",
    "dim_features = 5\n",
    "dim_decision = 10\n",
    "price = np.random.randint(low=1, high=1000, size=dim_decision)\n",
    "lower = np.amax(price)\n",
    "upper = (np.random.rand()-1)*lower + np.sum(price)\n",
    "Budget = [(upper-lower)*np.random.rand() + lower]\n",
    "Coeff_Mat = np.random.binomial(n=1, p=0.5, size = (dim_decision, dim_features))\n",
    "Theta_true = -np.concatenate((Coeff_Mat, np.zeros((dim_decision+1, dim_features))), axis=0)"
   ]
  },
  {
   "cell_type": "code",
   "execution_count": 271,
   "id": "110aabc9",
   "metadata": {},
   "outputs": [],
   "source": [
    "N_train = 200\n",
    "# N_valid = 200\n",
    "N_test = 1000\n",
    "degree = 1\n",
    "additive_noise = 0.0\n",
    "scale_noise_uni = 0.0\n",
    "scale_noise_div = 0.0\n",
    "attack_threshold = 0.5\n",
    "attack_power = 3.0\n",
    "z_train, c_train, A_train, b_train = dg.GenerateFractionalKnapsack(N_samples=N_train, dim_features=dim_features, dim_decision=dim_decision, Coeff_Mat=Coeff_Mat, price=price, Budget=Budget,\n",
    "                                    degree=degree, additive_noise=additive_noise, scale_noise_uni=scale_noise_uni, scale_noise_div=scale_noise_div, attack_threshold = attack_threshold, attack_power = attack_power)\n",
    "# z_valid, c_valid, A_valid, b_valid = dg.GenerateFractionalKnapsack(N_samples=N_valid, dim_features=dim_features, dim_decision=dim_decision, Coeff_Mat=Coeff_Mat, price=price, Budget=Budget,\n",
    "#                                     degree=degree, additive_noise=additive_noise, scale_noise_uni=scale_noise_uni, scale_noise_div=scale_noise_div, attack_threshold = attack_threshold, attack_power = attack_power)\n",
    "z_test, c_test, A_test, b_test = dg.GenerateFractionalKnapsack(N_samples=N_test, dim_features=dim_features, dim_decision=dim_decision, Coeff_Mat=Coeff_Mat, price=price, Budget=Budget,\n",
    "                                    degree=degree, additive_noise=additive_noise, scale_noise_uni=scale_noise_uni, scale_noise_div=scale_noise_div, attack_threshold = attack_threshold, attack_power = attack_power)"
   ]
  },
  {
   "cell_type": "code",
   "execution_count": 242,
   "id": "e881583a",
   "metadata": {},
   "outputs": [],
   "source": [
    "# Generate Shortest Path Samples\n",
    "benchmark = 2\n",
    "dim_edge_vert = 4\n",
    "dim_edge_hori = 4\n",
    "dim_features = 6\n",
    "dim_cost = dim_edge_hori * (dim_edge_vert + 1) + (dim_edge_hori + 1) * dim_edge_vert\n",
    "Coeff_Mat = np.random.binomial(n=1, p=0.5, size = (dim_cost, dim_features))"
   ]
  },
  {
   "cell_type": "code",
   "execution_count": 243,
   "id": "2798ce9e",
   "metadata": {},
   "outputs": [],
   "source": [
    "N_train = 200\n",
    "# N_valid = 200\n",
    "N_test = 1000\n",
    "degree = 6\n",
    "additive_noise = 0.0\n",
    "scale_noise_uni = 0.0\n",
    "scale_noise_div = 0.0\n",
    "attack_threshold = 0.5\n",
    "attack_power = 3.0\n",
    "z_train, c_train, A_train, b_train = dg.GenerateShortestPath(N_samples = N_train, dim_features = dim_features, Coeff_Mat=Coeff_Mat,\n",
    "                                                            dim_edge_vert = dim_edge_vert, dim_edge_hori = dim_edge_hori,\n",
    "                                                            degree=degree, additive_noise=additive_noise, scale_noise_uni=scale_noise_uni, scale_noise_div=scale_noise_div, attack_threshold=attack_threshold, attack_power=attack_power)\n",
    "# z_valid, c_valid, A_valid, b_valid = dg.GenerateShortestPath(N_samples = N_valid, dim_features = dim_features, Coeff_Mat=Coeff_Mat,\n",
    "#                                                             dim_edge_vert = dim_edge_vert, dim_edge_hori = dim_edge_hori,\n",
    "#                                                             degree=degree, additive_noise=additive_noise, scale_noise_uni=scale_noise_uni, scale_noise_div=scale_noise_div, attack_threshold=attack_threshold, attack_power=attack_power)\n",
    "z_test, c_test, A_test, b_test = dg.GenerateShortestPath(N_samples = N_test, dim_features = dim_features, Coeff_Mat=Coeff_Mat,\n",
    "                                                            dim_edge_vert = dim_edge_vert, dim_edge_hori = dim_edge_hori,\n",
    "                                                            degree=degree, additive_noise=additive_noise, scale_noise_uni=scale_noise_uni, scale_noise_div=scale_noise_div, attack_threshold=attack_threshold, attack_power=attack_power)"
   ]
  },
  {
   "cell_type": "code",
   "execution_count": 272,
   "id": "7bddbbc7",
   "metadata": {},
   "outputs": [
    {
     "name": "stdout",
     "output_type": "stream",
     "text": [
      "Time cost 3.0479962825775146\n"
     ]
    }
   ],
   "source": [
    "# Compute Optimal Solutions\n",
    "start = time.time()\n",
    "basic_train, nonb_train, solution_train = lpm.ComputeBasis(c=c_train, A=A_train, b=b_train)\n",
    "#basic_valid, nonb_valid, solution_valid = lpm.ComputeBasis(c=c_valid, A=A_valid, b=b_valid)\n",
    "basic_test, nonb_test, solution_test = lpm.ComputeBasis(c=c_test, A=A_test, b=b_test)\n",
    "print(\"Time cost\", time.time() - start)"
   ]
  },
  {
   "cell_type": "code",
   "execution_count": 273,
   "id": "98af1ea1",
   "metadata": {},
   "outputs": [
    {
     "name": "stdout",
     "output_type": "stream",
     "text": [
      "Method Random Forest\n",
      "Training samples 200\n",
      "Time Cost 0.12495756149291992\n",
      "Loss 0.03380842495184928 Error 0.25047181153666687 Normalized Error 0.20005805812298777\n"
     ]
    },
    {
     "data": {
      "image/png": "[encoded data removed]",
      "text/plain": [
       "<Figure size 432x288 with 1 Axes>"
      ]
     },
     "metadata": {
      "needs_background": "light"
     },
     "output_type": "display_data"
    }
   ],
   "source": [
    "# Tuning Hyperparameters\n",
    "# Random Forest\n",
    "# No Theta, directly predict c\n",
    "alg = 'RF'\n",
    "print(\"Method Random Forest\")\n",
    "print(\"Training samples\", N_train)\n",
    "start = time.time()\n",
    "regr = RandomForestRegressor(random_state=0)\n",
    "regr.fit(z_train, c_train)\n",
    "hat_c = regr.predict(z_test)\n",
    "globals()[\"time_\"+alg] = time.time() - start\n",
    "print(\"Time Cost\", globals()[\"time_\"+alg])\n",
    "globals()[\"loss_\"+alg], globals()[\"error_\"+alg], globals()[\"norm_err_\"+alg] = lpm.ComputeLoss(benchmark = benchmark, A=A_test, b=b_test, c=c_test, z=z_test,\n",
    "                                                                                         direct=True, hat_c=hat_c, solved = True, solution=solution_test)\n",
    "print(\"Loss\", np.average(globals()[\"loss_\"+alg]), \"Error\", np.average(globals()[\"error_\"+alg]), \"Normalized Error\", np.average(globals()[\"norm_err_\"+alg]))\n",
    "plt.boxplot(globals()[\"loss_\"+alg], showfliers = False)\n",
    "plt.show()"
   ]
  },
  {
   "cell_type": "code",
   "execution_count": 274,
   "id": "981f0650",
   "metadata": {},
   "outputs": [
    {
     "name": "stdout",
     "output_type": "stream",
     "text": [
      "Method Ordinary Least Squares\n",
      "Training samples 200\n",
      "Time Cost 0.5820002555847168\n",
      "Loss 0.06832881583134345 Error 0.8609454182906243 Normalized Error 0.30683446896519434\n"
     ]
    },
    {
     "data": {
      "image/png": "[encoded data removed]",
      "text/plain": [
       "<Figure size 432x288 with 1 Axes>"
      ]
     },
     "metadata": {
      "needs_background": "light"
     },
     "output_type": "display_data"
    }
   ],
   "source": [
    "# Tuning Hyperparameters\n",
    "# Ordinary Least Squares\n",
    "alg = 'OLS'\n",
    "print(\"Method Ordinary Least Squares\")\n",
    "print(\"Training samples\", N_train)\n",
    "start = time.time()\n",
    "globals()[\"Theta_\"+alg] = lm.OrdinaryLeastSquares(A = A_train, b = b_train, c = c_train, z = z_train)\n",
    "globals()[\"time_\"+alg] = time.time() - start\n",
    "print(\"Time Cost\", globals()[\"time_\"+alg])\n",
    "globals()[\"loss_\"+alg], globals()[\"error_\"+alg], globals()[\"norm_err_\"+alg] = lpm.ComputeLoss(benchmark = benchmark,A = A_test, b = b_test, c = c_test, z = z_test, direct = False,\n",
    "                                                                                                Theta = globals()[\"Theta_\"+alg], solved = True, solution = solution_test)\n",
    "print(\"Loss\", np.average(globals()[\"loss_\"+alg]), \"Error\", np.average(globals()[\"error_\"+alg]), \"Normalized Error\", np.average(globals()[\"norm_err_\"+alg]))\n",
    "plt.boxplot(globals()[\"loss_\"+alg], showfliers = False)\n",
    "plt.show()"
   ]
  },
  {
   "cell_type": "code",
   "execution_count": 275,
   "id": "27618b67",
   "metadata": {},
   "outputs": [
    {
     "name": "stdout",
     "output_type": "stream",
     "text": [
      "Method Ridge Regression\n",
      "Training samples 200\n",
      "Time Cost 0.5272572040557861\n",
      "Loss 0.06762272731016741 Error 0.8602416757934123 Normalized Error 0.30677793294300043\n"
     ]
    },
    {
     "data": {
      "image/png": "[encoded data removed]",
      "text/plain": [
       "<Figure size 432x288 with 1 Axes>"
      ]
     },
     "metadata": {
      "needs_background": "light"
     },
     "output_type": "display_data"
    }
   ],
   "source": [
    "# Tuning Hyperparameters\n",
    "# Ridge Regression\n",
    "alg = 'Ridge'\n",
    "print(\"Method Ridge Regression\")\n",
    "print(\"Training samples\", N_train)\n",
    "start = time.time()\n",
    "globals()[\"Theta_\"+alg] = lm.RidgeRegression(A = A_train, b = b_train, c = c_train,  z = z_train, regular_const = 1e-1)\n",
    "globals()[\"time_\"+alg] = time.time() - start\n",
    "print(\"Time Cost\", globals()[\"time_\"+alg])\n",
    "globals()[\"loss_\"+alg], globals()[\"error_\"+alg], globals()[\"norm_err_\"+alg] = lpm.ComputeLoss(benchmark = benchmark,A = A_test, b = b_test, c = c_test, z = z_test, direct = False,\n",
    "                                                                                                Theta = globals()[\"Theta_\"+alg], solved = True, solution = solution_test)\n",
    "print(\"Loss\", np.average(globals()[\"loss_\"+alg]), \"Error\", np.average(globals()[\"error_\"+alg]), \"Normalized Error\", np.average(globals()[\"norm_err_\"+alg]))\n",
    "plt.boxplot(globals()[\"loss_\"+alg], showfliers = False)\n",
    "plt.show()"
   ]
  },
  {
   "cell_type": "code",
   "execution_count": 276,
   "id": "7964f0ad",
   "metadata": {},
   "outputs": [
    {
     "name": "stdout",
     "output_type": "stream",
     "text": [
      "Method PolyKer Ridge Regression\n",
      "Training samples 200\n",
      "Time Cost 1.7030000686645508\n",
      "Loss 0.029628839750320244 Error 0.39511874129708213 Normalized Error 0.161843641620592\n"
     ]
    },
    {
     "data": {
      "image/png": "[encoded data removed]",
      "text/plain": [
       "<Figure size 432x288 with 1 Axes>"
      ]
     },
     "metadata": {
      "needs_background": "light"
     },
     "output_type": "display_data"
    }
   ],
   "source": [
    "# Tuning Hyperparameters\n",
    "# Polynomial Kernelized Ridge Regression\n",
    "alg = 'PolyRidge'\n",
    "print(\"Method PolyKer Ridge Regression\")\n",
    "print(\"Training samples\", N_train)\n",
    "ker_z_train = lm.PolyKernel(z = z_train, benchmark_z = z_train, gamma=1.0, degree=3, coef0=1.0)\n",
    "ker_z_test = lm.PolyKernel(z = z_test, benchmark_z = z_train, gamma=1.0, degree=3, coef0=1.0)\n",
    "start = time.time()\n",
    "globals()[\"Theta_\"+alg] = lm.RidgeRegression(A = A_train, b = b_train, c = c_train,  z = ker_z_train, regular_const = 1e-2)\n",
    "globals()[\"time_\"+alg] = time.time() - start\n",
    "print(\"Time Cost\", globals()[\"time_\"+alg])\n",
    "globals()[\"loss_\"+alg], globals()[\"error_\"+alg], globals()[\"norm_err_\"+alg] = lpm.ComputeLoss(benchmark = benchmark,A = A_test, b = b_test, c = c_test, z = ker_z_test, direct = False,\n",
    "                                                                                                Theta = globals()[\"Theta_\"+alg], solved = True, solution = solution_test)\n",
    "print(\"Loss\", np.average(globals()[\"loss_\"+alg]), \"Error\", np.average(globals()[\"error_\"+alg]), \"Normalized Error\", np.average(globals()[\"norm_err_\"+alg]))\n",
    "plt.boxplot(globals()[\"loss_\"+alg], showfliers = False)\n",
    "plt.show()"
   ]
  },
  {
   "cell_type": "code",
   "execution_count": 277,
   "id": "b09e3350",
   "metadata": {},
   "outputs": [
    {
     "name": "stdout",
     "output_type": "stream",
     "text": [
      "Method RbfKer Ridge Regression\n",
      "Training samples 200\n",
      "Time Cost 1.6939995288848877\n",
      "Loss 0.0058258116994683515 Error 0.30909323098222763 Normalized Error 0.08660323790949757\n"
     ]
    },
    {
     "data": {
      "image/png": "[encoded data removed]",
      "text/plain": [
       "<Figure size 432x288 with 1 Axes>"
      ]
     },
     "metadata": {
      "needs_background": "light"
     },
     "output_type": "display_data"
    }
   ],
   "source": [
    "# Tuning Hyperparameters\n",
    "# Rbf Kernelized Ridge Regression\n",
    "alg = 'RbfRidge'\n",
    "print(\"Method RbfKer Ridge Regression\")\n",
    "print(\"Training samples\", N_train)\n",
    "ker_z_train = lm.ExpKernel(z = z_train, benchmark_z = z_train, gamma=5e-1)\n",
    "ker_z_test = lm.ExpKernel(z = z_test, benchmark_z = z_train, gamma=5e-1)\n",
    "start = time.time()\n",
    "globals()[\"Theta_\"+alg] = lm.RidgeRegression(A = A_train, b = b_train, c = c_train,  z = ker_z_train, regular_const = 1e-2)\n",
    "globals()[\"time_\"+alg] = time.time() - start\n",
    "print(\"Time Cost\", globals()[\"time_\"+alg])\n",
    "globals()[\"loss_\"+alg], globals()[\"error_\"+alg], globals()[\"norm_err_\"+alg] = lpm.ComputeLoss(benchmark = benchmark,A = A_test, b = b_test, c = c_test, z = ker_z_test, direct = False,\n",
    "                                                                                                Theta = globals()[\"Theta_\"+alg], solved = True, solution = solution_test)\n",
    "print(\"Loss\", np.average(globals()[\"loss_\"+alg]), \"Error\", np.average(globals()[\"error_\"+alg]), \"Normalized Error\", np.average(globals()[\"norm_err_\"+alg]))\n",
    "plt.boxplot(globals()[\"loss_\"+alg], showfliers = False)\n",
    "plt.show()"
   ]
  },
  {
   "cell_type": "code",
   "execution_count": 281,
   "id": "5100885e",
   "metadata": {},
   "outputs": [
    {
     "name": "stdout",
     "output_type": "stream",
     "text": [
      "Method SVM Margin Learning\n",
      "Training samples 200\n",
      "Time Cost 0.4699997901916504\n",
      "Loss 0.0016915103812121025 Error 3.048441759363658 Normalized Error 0.9241851607594103\n"
     ]
    },
    {
     "data": {
      "image/png": "[encoded data removed]",
      "text/plain": [
       "<Figure size 432x288 with 1 Axes>"
      ]
     },
     "metadata": {
      "needs_background": "light"
     },
     "output_type": "display_data"
    }
   ],
   "source": [
    "# Tuning Hyperparameters\n",
    "# Margin Learning\n",
    "# Do not need true c\n",
    "# Do not need solution x but basis\n",
    "alg = 'ML'\n",
    "print(\"Method SVM Margin Learning\")\n",
    "print(\"Training samples\", N_train)\n",
    "start = time.time()\n",
    "globals()[\"Theta_\"+alg] = lm.MarginLearning(A = A_train, b = b_train, z = z_train, basic = basic_train, nonb = nonb_train, \n",
    "                                            regular_const = 1e-3)\n",
    "globals()[\"time_\"+alg] = time.time() - start\n",
    "print(\"Time Cost\", globals()[\"time_\"+alg])\n",
    "globals()[\"loss_\"+alg], globals()[\"error_\"+alg], globals()[\"norm_err_\"+alg] = lpm.ComputeLoss(benchmark = benchmark,A = A_test, b = b_test, c = c_test, z = z_test, direct = False,\n",
    "                                                                                                Theta = globals()[\"Theta_\"+alg], solved = True, solution = solution_test)\n",
    "print(\"Loss\", np.average(globals()[\"loss_\"+alg]), \"Error\", np.average(globals()[\"error_\"+alg]), \"Normalized Error\", np.average(globals()[\"norm_err_\"+alg]))\n",
    "plt.boxplot(globals()[\"loss_\"+alg], showfliers = False)\n",
    "plt.show()"
   ]
  },
  {
   "cell_type": "code",
   "execution_count": 282,
   "id": "289330b5",
   "metadata": {},
   "outputs": [
    {
     "name": "stdout",
     "output_type": "stream",
     "text": [
      "Method Poly-Kernelized SVM Margin Learning\n",
      "Training samples 200\n",
      "Time Cost 4.7129998207092285\n",
      "Loss 0.012294298375486162 Error 11.10446508098175 Normalized Error 0.937811749639154\n"
     ]
    },
    {
     "data": {
      "image/png": "[encoded data removed]",
      "text/plain": [
       "<Figure size 432x288 with 1 Axes>"
      ]
     },
     "metadata": {
      "needs_background": "light"
     },
     "output_type": "display_data"
    }
   ],
   "source": [
    "# Tuning Hyperparameters\n",
    "# Polynomial Kernelized Margin Learning\n",
    "# Do not need true c\n",
    "# Do not need solution x but basis\n",
    "alg = 'PolyKer'\n",
    "ker_z_train = lm.PolyKernel(z = z_train, benchmark_z = z_train, gamma=1.0, degree=2, coef0=1.0)\n",
    "ker_z_test = lm.PolyKernel(z = z_test, benchmark_z = z_train, gamma=1.0, degree=2, coef0=1.0)\n",
    "print(\"Method Poly-Kernelized SVM Margin Learning\")\n",
    "print(\"Training samples\", N_train)\n",
    "start = time.time()\n",
    "globals()[\"Theta_\"+alg] = lm.KernelizedMarginLearning(A = A_train, b = b_train, z = ker_z_train, basic = basic_train, nonb = nonb_train,\n",
    "                                                      regular_const=1e-2)\n",
    "globals()[\"time_\"+alg] = time.time() - start\n",
    "print(\"Time Cost\", globals()[\"time_\"+alg])\n",
    "globals()[\"loss_\"+alg], globals()[\"error_\"+alg], globals()[\"norm_err_\"+alg] = lpm.ComputeLoss(benchmark = benchmark,A = A_test, b = b_test, c = c_test, z = ker_z_test, direct = False,\n",
    "                                                                                                Theta = globals()[\"Theta_\"+alg], solved = True, solution = solution_test)\n",
    "print(\"Loss\", np.average(globals()[\"loss_\"+alg]), \"Error\", np.average(globals()[\"error_\"+alg]), \"Normalized Error\", np.average(globals()[\"norm_err_\"+alg]))\n",
    "plt.boxplot(globals()[\"loss_\"+alg], showfliers = False)\n",
    "plt.show()"
   ]
  },
  {
   "cell_type": "code",
   "execution_count": 283,
   "id": "45f6c63c",
   "metadata": {},
   "outputs": [
    {
     "name": "stdout",
     "output_type": "stream",
     "text": [
      "Method Rbf Kernelized SVM Margin Learning\n",
      "Training samples 200\n",
      "Time Cost 4.519703149795532\n",
      "Loss 0.011525851534170226 Error 2.6364014083571403 Normalized Error 0.9361232177352075\n"
     ]
    },
    {
     "data": {
      "image/png": "[encoded data removed]",
      "text/plain": [
       "<Figure size 432x288 with 1 Axes>"
      ]
     },
     "metadata": {
      "needs_background": "light"
     },
     "output_type": "display_data"
    }
   ],
   "source": [
    "# Tuning Hyperparameters\n",
    "# Rbf Kernelized Margin Learning\n",
    "# Do not need true c\n",
    "# Do not need solution x but basis\n",
    "alg = 'ExpRbf'\n",
    "ker_z_train = lm.ExpKernel(z = z_train, benchmark_z = z_train, gamma=2e0)\n",
    "ker_z_test = lm.ExpKernel(z = z_test, benchmark_z = z_train, gamma=2e0)\n",
    "print(\"Method Rbf Kernelized SVM Margin Learning\")\n",
    "print(\"Training samples\", N_train)\n",
    "start = time.time()\n",
    "globals()[\"Theta_\"+alg] = lm.KernelizedMarginLearning(A = A_train, b = b_train, z = ker_z_train, basic = basic_train, nonb = nonb_train,\n",
    "                                                      regular_const=1e-3)\n",
    "globals()[\"time_\"+alg] = time.time() - start\n",
    "print(\"Time Cost\", globals()[\"time_\"+alg])\n",
    "globals()[\"loss_\"+alg], globals()[\"error_\"+alg], globals()[\"norm_err_\"+alg] = lpm.ComputeLoss(benchmark = benchmark,A = A_test, b = b_test, c = c_test, z = ker_z_test, direct = False,\n",
    "                                                                                                Theta = globals()[\"Theta_\"+alg], solved = True, solution = solution_test)\n",
    "print(\"Loss\", np.average(globals()[\"loss_\"+alg]), \"Error\", np.average(globals()[\"error_\"+alg]), \"Normalized Error\", np.average(globals()[\"norm_err_\"+alg]))\n",
    "plt.boxplot(globals()[\"loss_\"+alg], showfliers = False)\n",
    "plt.show()"
   ]
  },
  {
   "cell_type": "code",
   "execution_count": 191,
   "id": "de13a28d",
   "metadata": {},
   "outputs": [
    {
     "name": "stdout",
     "output_type": "stream",
     "text": [
      "Method SPO+\n",
      "Training samples 200\n"
     ]
    },
    {
     "data": {
      "image/png": "[encoded data removed]",
      "text/plain": [
       "<Figure size 432x288 with 1 Axes>"
      ]
     },
     "metadata": {
      "needs_background": "light"
     },
     "output_type": "display_data"
    },
    {
     "name": "stdout",
     "output_type": "stream",
     "text": [
      "Time Cost 44.27845478057861\n",
      "Loss 2.245773288724677 Error 0.990069238846126 Normalized Error 1.2254114398785507\n"
     ]
    },
    {
     "data": {
      "image/png": "[encoded data removed]",
      "text/plain": [
       "<Figure size 432x288 with 1 Axes>"
      ]
     },
     "metadata": {
      "needs_background": "light"
     },
     "output_type": "display_data"
    }
   ],
   "source": [
    "# Tuning Hyperparameters\n",
    "# SPO+\n",
    "alg = 'SPO'\n",
    "print(\"Method SPO+\")\n",
    "print(\"Training samples\", N_train)\n",
    "start = time.time()\n",
    "globals()[\"Theta_\"+alg] = lm.SPOplus(A = A_train, b = b_train, c = c_train, z = z_train, \n",
    "                                     regular_const = 1e-2, step_size = 1e-1, batch_size = 5, max_iter = 1e3, \n",
    "                                     solved = True, solution = solution_train)\n",
    "globals()[\"time_\"+alg] = time.time() - start\n",
    "print(\"Time Cost\", globals()[\"time_\"+alg])\n",
    "globals()[\"loss_\"+alg], globals()[\"error_\"+alg], globals()[\"norm_err_\"+alg] = lpm.ComputeLoss(benchmark = benchmark,A = A_test, b = b_test, c = c_test, z = z_test, direct = False,\n",
    "                                                                                                Theta = globals()[\"Theta_\"+alg], solved = True, solution = solution_test)\n",
    "print(\"Loss\", np.average(globals()[\"loss_\"+alg]), \"Error\", np.average(globals()[\"error_\"+alg]), \"Normalized Error\", np.average(globals()[\"norm_err_\"+alg]))\n",
    "plt.boxplot(globals()[\"loss_\"+alg], showfliers = False)\n",
    "plt.show()"
   ]
  },
  {
   "cell_type": "code",
   "execution_count": 17,
   "id": "53204ae2",
   "metadata": {},
   "outputs": [
    {
     "name": "stdout",
     "output_type": "stream",
     "text": [
      "Method Naive OGD\n",
      "Training samples 500\n",
      "Time Cost 0.006976127624511719\n",
      "Loss 1.8388770292478134 Error 2.0838786030458283 Normalized Error 1.4042543516428285\n"
     ]
    },
    {
     "data": {
      "image/png": "[encoded data removed]",
      "text/plain": [
       "<Figure size 432x288 with 1 Axes>"
      ]
     },
     "metadata": {
      "needs_background": "light"
     },
     "output_type": "display_data"
    }
   ],
   "source": [
    "# Tuning Hyperparameters\n",
    "# Naive Online Gradient Descent\n",
    "# Do not need true c\n",
    "alg = 'NOGD'\n",
    "print(\"Method Naive OGD\")\n",
    "print(\"Training samples\", N_train)\n",
    "start = time.time()\n",
    "globals()[\"Theta_\"+alg] = lm.NaiveOnlineGradientDescent(A = A_train, b = b_train, z = z_train, \n",
    "                                                        step_size = 1e-3, solution = solution_train, radius = 50)\n",
    "globals()[\"time_\"+alg] = time.time() - start\n",
    "print(\"Time Cost\", globals()[\"time_\"+alg])\n",
    "globals()[\"loss_\"+alg], globals()[\"error_\"+alg], globals()[\"norm_err_\"+alg] = lpm.ComputeLoss(benchmark = benchmark,A = A_test, b = b_test, c = c_test, z = z_test, direct = False,\n",
    "                                                                                                Theta = globals()[\"Theta_\"+alg], solved = True, solution = solution_test)\n",
    "print(\"Loss\", np.average(globals()[\"loss_\"+alg]), \"Error\", np.average(globals()[\"error_\"+alg]), \"Normalized Error\", np.average(globals()[\"norm_err_\"+alg]))\n",
    "plt.boxplot(globals()[\"loss_\"+alg], showfliers = False)\n",
    "plt.show()"
   ]
  },
  {
   "cell_type": "code",
   "execution_count": 17,
   "id": "5448e80f",
   "metadata": {},
   "outputs": [
    {
     "name": "stdout",
     "output_type": "stream",
     "text": [
      "Method SVM OGD\n",
      "Training samples 1000\n",
      "Time Cost 0.0670003890991211\n",
      "Loss 0.38048191031371514 Error 0.9994669064078309 Normalized Error 1.3105632225268369\n"
     ]
    },
    {
     "data": {
      "image/png": "[encoded data removed]",
      "text/plain": [
       "<Figure size 432x288 with 1 Axes>"
      ]
     },
     "metadata": {
      "needs_background": "light"
     },
     "output_type": "display_data"
    }
   ],
   "source": [
    "# Tuning Hyperparameters\n",
    "# SVM Margin Online Gradient Descent\n",
    "# Do not need true c\n",
    "# Do not need solution x but basis\n",
    "alg = 'SVMOGD'\n",
    "print(\"Method SVM OGD\")\n",
    "print(\"Training samples\", N_train)\n",
    "start = time.time()\n",
    "globals()[\"Theta_\"+alg] = lm.SVM_OGD(A = A_train, b = b_train, z = z_train, basic = basic_train, nonb = nonb_train,\n",
    "                                     step_size = 1e-4, radius = 1.1* np.linalg.norm(Coeff_Mat, 'f'), regular_const=1e-2)\n",
    "globals()[\"time_\"+alg] = time.time() - start\n",
    "print(\"Time Cost\", globals()[\"time_\"+alg])\n",
    "globals()[\"loss_\"+alg], globals()[\"error_\"+alg], globals()[\"norm_err_\"+alg] = lpm.ComputeLoss(benchmark = benchmark,A = A_test, b = b_test, c = c_test, z = z_test, direct = False,\n",
    "                                                                                                Theta = globals()[\"Theta_\"+alg], solved = True, solution = solution_test)\n",
    "print(\"Loss\", np.average(globals()[\"loss_\"+alg]), \"Error\", np.average(globals()[\"error_\"+alg]), \"Normalized Error\", np.average(globals()[\"norm_err_\"+alg]))\n",
    "plt.boxplot(globals()[\"loss_\"+alg], showfliers = False)\n",
    "plt.show()"
   ]
  },
  {
   "cell_type": "code",
   "execution_count": 25,
   "id": "0bae000d",
   "metadata": {},
   "outputs": [],
   "source": [
    "focus = \"degree\"\n",
    "globals()[focus + \"_set\"] = [1, 2, 4, 6]\n",
    "total_trial = 10\n",
    "methods = ['RF', 'OLS', 'Ridge', 'PolyRidge', 'RbfRidge', 'SPO+', 'ML', 'PolyKer', 'ExpRbf']\n",
    "for i in range(len(methods)):\n",
    "    globals()[f\"Loss_{methods[i]}\"] = np.zeros((total_trial, len(globals()[focus + \"_set\"])))\n",
    "    globals()[f\"Error_{methods[i]}\"] = np.zeros((total_trial, len(globals()[focus + \"_set\"])))\n",
    "    globals()[f\"Norm_Err_{methods[i]}\"] = np.zeros((total_trial, len(globals()[focus + \"_set\"])))"
   ]
  },
  {
   "cell_type": "code",
   "execution_count": 100,
   "id": "01bf6e90",
   "metadata": {},
   "outputs": [
    {
     "name": "stdout",
     "output_type": "stream",
     "text": [
      "*********************************************************\n",
      "Trial 1\n",
      "Time cost 3.4190027713775635\n",
      "Method Random Forest\n",
      "Training samples 500\n",
      "Time Cost 0.2590024471282959\n",
      "Loss 0.0689308523104141 Error 1.443655829147477 Normalized Error 0.3303979131814035\n",
      "Method Ordinary Least Squares\n",
      "Training samples 500\n",
      "Time Cost 1.4760019779205322\n",
      "Loss 0.13816068558522887 Error 13.759772708440257 Normalized Error 0.688204832367662\n",
      "Method Ridge Regression\n",
      "Training samples 500\n",
      "Time Cost 1.4460008144378662\n",
      "Loss 0.13816068558522887 Error 13.75941895862375 Normalized Error 0.688203448505963\n",
      "Method PolyKer Ridge Regression\n",
      "Training samples 500\n",
      "Time Cost 15.01000428199768\n",
      "Loss 0.1427749076125836 Error 13.875202401612075 Normalized Error 0.7306334410565074\n",
      "Method RbfKer Ridge Regression\n",
      "Training samples 500\n",
      "Time Cost 14.918329000473022\n",
      "Loss 0.1214197130701705 Error 0.6936184875990519 Normalized Error 0.3500908247613355\n",
      "Method SPO+\n",
      "Training samples 500\n"
     ]
    },
    {
     "data": {
      "image/png": "[encoded data removed]",
      "text/plain": [
       "<Figure size 432x288 with 1 Axes>"
      ]
     },
     "metadata": {
      "needs_background": "light"
     },
     "output_type": "display_data"
    },
    {
     "name": "stdout",
     "output_type": "stream",
     "text": [
      "Time Cost 31.524288654327393\n",
      "Loss 0.10720292338361422 Error 36.52404765074688 Normalized Error 1.3978091162864417\n",
      "Method SVM Margin Learning\n",
      "Training samples 500\n",
      "Time Cost 1.3942339420318604\n",
      "Loss 0.06383240379917424 Error 1.261525883004714 Normalized Error 1.1105474850041555\n",
      "Method Poly-Kernelized SVM Margin Learning\n",
      "Training samples 500\n",
      "Time Cost 51.69140386581421\n",
      "Loss 0.002577171708081382 Error 1.6071377065676906 Normalized Error 0.9108751050236342\n",
      "Method Rbf Kernelized SVM Margin Learning\n",
      "Training samples 500\n",
      "Time Cost 48.36937880516052\n",
      "Loss 0.01180816935742315 Error 1.272954832573912 Normalized Error 0.9663872901243747\n",
      "*********************************************************\n",
      "Trial 2\n",
      "Time cost 3.2350001335144043\n",
      "Method Random Forest\n",
      "Training samples 500\n",
      "Time Cost 0.24700140953063965\n",
      "Loss 0.0712481482327115 Error 1.9380314486571049 Normalized Error 0.37566263196914496\n",
      "Method Ordinary Least Squares\n",
      "Training samples 500\n",
      "Time Cost 1.5013422966003418\n",
      "Loss 0.25489212395279676 Error 16.890987882778102 Normalized Error 0.7877053210372571\n",
      "Method Ridge Regression\n",
      "Training samples 500\n",
      "Time Cost 1.5100042819976807\n",
      "Loss 0.25489212395279676 Error 16.890574010115362 Normalized Error 0.7877051259254751\n",
      "Method PolyKer Ridge Regression\n",
      "Training samples 500\n",
      "Time Cost 14.847995042800903\n",
      "Loss 0.14443290648417131 Error 20.29913534112407 Normalized Error 0.8295179704362144\n",
      "Method RbfKer Ridge Regression\n",
      "Training samples 500\n",
      "Time Cost 15.052000999450684\n",
      "Loss 0.11247162625231753 Error 0.7910280786082026 Normalized Error 0.40001394795412387\n",
      "Method SPO+\n",
      "Training samples 500\n"
     ]
    },
    {
     "data": {
      "image/png": "[encoded data removed]",
      "text/plain": [
       "<Figure size 432x288 with 1 Axes>"
      ]
     },
     "metadata": {
      "needs_background": "light"
     },
     "output_type": "display_data"
    },
    {
     "name": "stdout",
     "output_type": "stream",
     "text": [
      "Time Cost 31.648157119750977\n",
      "Loss 0.12891906332402447 Error 71.85730913051412 Normalized Error 1.4032277041952441\n",
      "Method SVM Margin Learning\n",
      "Training samples 500\n",
      "Time Cost 1.4260022640228271\n",
      "Loss 0.09535319610205831 Error 1.296713504246576 Normalized Error 1.1099457844393605\n",
      "Method Poly-Kernelized SVM Margin Learning\n",
      "Training samples 500\n",
      "Time Cost 57.59605145454407\n",
      "Loss 0.00209450525466644 Error 1.926647025536872 Normalized Error 0.9953458302848368\n",
      "Method Rbf Kernelized SVM Margin Learning\n",
      "Training samples 500\n",
      "Time Cost 52.72133278846741\n",
      "Loss 0.00747717052442394 Error 1.3276401166865779 Normalized Error 1.0245337919049315\n",
      "*********************************************************\n",
      "Trial 3\n",
      "Time cost 3.253002166748047\n",
      "Method Random Forest\n",
      "Training samples 500\n",
      "Time Cost 0.2610020637512207\n",
      "Loss 0.11077070927932095 Error 1.4309286966180383 Normalized Error 0.384316485020029\n",
      "Method Ordinary Least Squares\n",
      "Training samples 500\n",
      "Time Cost 1.4399986267089844\n",
      "Loss 0.3326689769050315 Error 16.147098903660783 Normalized Error 0.7932021938400446\n",
      "Method Ridge Regression\n",
      "Training samples 500\n",
      "Time Cost 1.4609973430633545\n",
      "Loss 0.3326689769050315 Error 16.146793640203814 Normalized Error 0.7932008735627336\n",
      "Method PolyKer Ridge Regression\n",
      "Training samples 500\n",
      "Time Cost 14.950653553009033\n",
      "Loss 0.18031412850251638 Error 16.2333849594068 Normalized Error 0.7323649182161449\n",
      "Method RbfKer Ridge Regression\n",
      "Training samples 500\n",
      "Time Cost 14.76431941986084\n",
      "Loss 0.16118762256014668 Error 1.4815238581381287 Normalized Error 0.3881378551359281\n",
      "Method SPO+\n",
      "Training samples 500\n"
     ]
    },
    {
     "data": {
      "image/png": "[encoded data removed]",
      "text/plain": [
       "<Figure size 432x288 with 1 Axes>"
      ]
     },
     "metadata": {
      "needs_background": "light"
     },
     "output_type": "display_data"
    },
    {
     "name": "stdout",
     "output_type": "stream",
     "text": [
      "Time Cost 31.461053133010864\n",
      "Loss 0.31978589845000377 Error 206.86661387135038 Normalized Error 1.41112051345624\n",
      "Method SVM Margin Learning\n",
      "Training samples 500\n",
      "A_B is singular.\n",
      "A_B is singular.\n",
      "A_B is singular.\n",
      "Time Cost 1.4610002040863037\n",
      "Loss 0.28095078177935506 Error 1.5605842139524924 Normalized Error 1.183494199139257\n",
      "Method Poly-Kernelized SVM Margin Learning\n",
      "Training samples 500\n",
      "A_B is singular.\n",
      "A_B is singular.\n",
      "A_B is singular.\n",
      "Time Cost 55.421838998794556\n",
      "Loss 0.0021344893919895054 Error 2.3934327169011884 Normalized Error 0.9540581412721904\n",
      "Method Rbf Kernelized SVM Margin Learning\n",
      "Training samples 500\n",
      "A_B is singular.\n",
      "A_B is singular.\n",
      "A_B is singular.\n",
      "Time Cost 61.823360443115234\n",
      "Loss 0.01013387706335253 Error 1.8465697296336312 Normalized Error 1.03588069301481\n",
      "*********************************************************\n",
      "Trial 4\n",
      "Time cost 4.026000738143921\n",
      "Method Random Forest\n",
      "Training samples 500\n",
      "Time Cost 0.2689993381500244\n",
      "Loss 0.046548449906923396 Error 0.4482330831563088 Normalized Error 0.26451667470754675\n",
      "Method Ordinary Least Squares\n",
      "Training samples 500\n",
      "Time Cost 1.6210050582885742\n",
      "Loss 0.11900071693992519 Error 10.447585129862839 Normalized Error 0.8319253143941657\n",
      "Method Ridge Regression\n",
      "Training samples 500\n",
      "Time Cost 1.6159977912902832\n",
      "Loss 0.11900071693992519 Error 10.447221373505858 Normalized Error 0.8319252808430276\n",
      "Method PolyKer Ridge Regression\n",
      "Training samples 500\n",
      "Time Cost 18.395997047424316\n",
      "Loss 0.12549073329009036 Error 8.43568403879601 Normalized Error 0.7574395734167967\n",
      "Method RbfKer Ridge Regression\n",
      "Training samples 500\n",
      "Time Cost 18.615039825439453\n",
      "Loss 0.05853679718885003 Error 0.3218939896489951 Normalized Error 0.20254997447621348\n",
      "Method SPO+\n",
      "Training samples 500\n"
     ]
    },
    {
     "data": {
      "image/png": "[encoded data removed]",
      "text/plain": [
       "<Figure size 432x288 with 1 Axes>"
      ]
     },
     "metadata": {
      "needs_background": "light"
     },
     "output_type": "display_data"
    },
    {
     "name": "stdout",
     "output_type": "stream",
     "text": [
      "Time Cost 36.9726083278656\n",
      "Loss 0.09304491913940452 Error 50.71827266548626 Normalized Error 1.4063049695635363\n",
      "Method SVM Margin Learning\n",
      "Training samples 500\n",
      "Time Cost 1.6825668811798096\n",
      "Loss 0.05929171339819463 Error 1.0936044622593053 Normalized Error 1.065796544823387\n",
      "Method Poly-Kernelized SVM Margin Learning\n",
      "Training samples 500\n",
      "Time Cost 57.9434871673584\n",
      "Loss 0.0015264849139358155 Error 1.2425070021300448 Normalized Error 0.9575793679778498\n",
      "Method Rbf Kernelized SVM Margin Learning\n",
      "Training samples 500\n",
      "Time Cost 53.477463245391846\n",
      "Loss 0.00517532284812243 Error 1.1323685351077533 Normalized Error 1.0127356681789694\n",
      "*********************************************************\n",
      "Trial 5\n",
      "Time cost 3.371999740600586\n",
      "Method Random Forest\n",
      "Training samples 500\n",
      "Time Cost 0.251004695892334\n",
      "Loss 0.03005591474534912 Error 0.8659682602099941 Normalized Error 0.32001743590227083\n",
      "Method Ordinary Least Squares\n",
      "Training samples 500\n",
      "Time Cost 1.667062520980835\n",
      "Loss 0.1241723102513082 Error 6.619773750666726 Normalized Error 0.7474606284974893\n",
      "Method Ridge Regression\n",
      "Training samples 500\n",
      "Time Cost 1.5320017337799072\n",
      "Loss 0.1241723102513082 Error 6.619601735412245 Normalized Error 0.7474600212512791\n",
      "Method PolyKer Ridge Regression\n",
      "Training samples 500\n",
      "Time Cost 16.659167289733887\n",
      "Loss 0.10493737510980279 Error 6.082033834434018 Normalized Error 0.6789857267851516\n",
      "Method RbfKer Ridge Regression\n",
      "Training samples 500\n",
      "Time Cost 18.681763410568237\n",
      "Loss 0.1035751772335787 Error 0.4670968743771073 Normalized Error 0.2636477255629286\n",
      "Method SPO+\n",
      "Training samples 500\n"
     ]
    },
    {
     "data": {
      "image/png": "[encoded data removed]",
      "text/plain": [
       "<Figure size 432x288 with 1 Axes>"
      ]
     },
     "metadata": {
      "needs_background": "light"
     },
     "output_type": "display_data"
    },
    {
     "name": "stdout",
     "output_type": "stream",
     "text": [
      "Time Cost 37.503313064575195\n",
      "Loss 0.06797789751639068 Error 42.80650316233366 Normalized Error 1.4071136812391047\n",
      "Method SVM Margin Learning\n",
      "Training samples 500\n",
      "Time Cost 1.5982375144958496\n",
      "Loss 0.09787555474182273 Error 1.0006298165658347 Normalized Error 1.1199003788183026\n",
      "Method Poly-Kernelized SVM Margin Learning\n",
      "Training samples 500\n",
      "Time Cost 66.46557784080505\n",
      "Loss 0.0005114258731349267 Error 1.030677248935447 Normalized Error 0.9459730986154984\n",
      "Method Rbf Kernelized SVM Margin Learning\n",
      "Training samples 500\n",
      "Time Cost 62.54811191558838\n",
      "Loss 0.002455171231771498 Error 1.0169680348979766 Normalized Error 1.0039682919835922\n",
      "*********************************************************\n",
      "Trial 6\n",
      "Time cost 4.458889007568359\n",
      "Method Random Forest\n",
      "Training samples 500\n",
      "Time Cost 0.3021819591522217\n",
      "Loss 0.0046324524607497366 Error 1.3792420230696538 Normalized Error 0.3893022940716713\n",
      "Method Ordinary Least Squares\n",
      "Training samples 500\n",
      "Time Cost 1.6201481819152832\n",
      "Loss 0.03083084245828605 Error 14.54245235636205 Normalized Error 0.8556510479881827\n",
      "Method Ridge Regression\n",
      "Training samples 500\n",
      "Time Cost 1.4964172840118408\n",
      "Loss 0.03083084245828605 Error 14.541929289861903 Normalized Error 0.8556508609882183\n",
      "Method PolyKer Ridge Regression\n",
      "Training samples 500\n",
      "Time Cost 18.808353662490845\n",
      "Loss 0.13108897718769416 Error 13.96443004278946 Normalized Error 0.7966833602843617\n",
      "Method RbfKer Ridge Regression\n",
      "Training samples 500\n",
      "Time Cost 18.459218502044678\n",
      "Loss 0.0989494773677113 Error 0.4754528926065624 Normalized Error 0.3028944444178061\n",
      "Method SPO+\n",
      "Training samples 500\n"
     ]
    },
    {
     "data": {
      "image/png": "[encoded data removed]",
      "text/plain": [
       "<Figure size 432x288 with 1 Axes>"
      ]
     },
     "metadata": {
      "needs_background": "light"
     },
     "output_type": "display_data"
    },
    {
     "name": "stdout",
     "output_type": "stream",
     "text": [
      "Time Cost 37.828362703323364\n",
      "Loss 0.03423658824950797 Error 32.42103268957668 Normalized Error 1.4060996116816695\n",
      "Method SVM Margin Learning\n",
      "Training samples 500\n",
      "A_B is singular.\n",
      "A_B is singular.\n",
      "A_B is singular.\n",
      "A_B is singular.\n",
      "A_B is singular.\n",
      "A_B is singular.\n",
      "A_B is singular.\n",
      "A_B is singular.\n",
      "A_B is singular.\n",
      "A_B is singular.\n",
      "A_B is singular.\n",
      "A_B is singular.\n",
      "A_B is singular.\n",
      "A_B is singular.\n",
      "A_B is singular.\n",
      "A_B is singular.\n",
      "A_B is singular.\n",
      "A_B is singular.\n",
      "A_B is singular.\n",
      "A_B is singular.\n",
      "A_B is singular.\n",
      "A_B is singular.\n",
      "A_B is singular.\n",
      "A_B is singular.\n",
      "A_B is singular.\n",
      "A_B is singular.\n",
      "A_B is singular.\n",
      "A_B is singular.\n",
      "A_B is singular.\n",
      "A_B is singular.\n",
      "A_B is singular.\n",
      "A_B is singular.\n",
      "A_B is singular.\n",
      "A_B is singular.\n",
      "A_B is singular.\n",
      "A_B is singular.\n",
      "A_B is singular.\n",
      "A_B is singular.\n",
      "A_B is singular.\n",
      "A_B is singular.\n",
      "A_B is singular.\n",
      "A_B is singular.\n",
      "A_B is singular.\n",
      "A_B is singular.\n",
      "A_B is singular.\n",
      "A_B is singular.\n",
      "A_B is singular.\n",
      "A_B is singular.\n",
      "A_B is singular.\n",
      "A_B is singular.\n",
      "A_B is singular.\n",
      "A_B is singular.\n",
      "A_B is singular.\n",
      "A_B is singular.\n",
      "A_B is singular.\n",
      "A_B is singular.\n",
      "A_B is singular.\n",
      "A_B is singular.\n",
      "A_B is singular.\n",
      "A_B is singular.\n",
      "A_B is singular.\n",
      "A_B is singular.\n",
      "A_B is singular.\n",
      "Time Cost 1.4178705215454102\n",
      "Loss 0.01332881510824886 Error 1.0704997557082618 Normalized Error 1.1277231112103214\n",
      "Method Poly-Kernelized SVM Margin Learning\n",
      "Training samples 500\n",
      "A_B is singular.\n",
      "A_B is singular.\n",
      "A_B is singular.\n",
      "A_B is singular.\n",
      "A_B is singular.\n",
      "A_B is singular.\n",
      "A_B is singular.\n",
      "A_B is singular.\n",
      "A_B is singular.\n",
      "A_B is singular.\n",
      "A_B is singular.\n",
      "A_B is singular.\n",
      "A_B is singular.\n",
      "A_B is singular.\n",
      "A_B is singular.\n",
      "A_B is singular.\n",
      "A_B is singular.\n",
      "A_B is singular.\n",
      "A_B is singular.\n",
      "A_B is singular.\n",
      "A_B is singular.\n",
      "A_B is singular.\n",
      "A_B is singular.\n",
      "A_B is singular.\n",
      "A_B is singular.\n",
      "A_B is singular.\n",
      "A_B is singular.\n",
      "A_B is singular.\n",
      "A_B is singular.\n",
      "A_B is singular.\n",
      "A_B is singular.\n",
      "A_B is singular.\n",
      "A_B is singular.\n",
      "A_B is singular.\n",
      "A_B is singular.\n",
      "A_B is singular.\n",
      "A_B is singular.\n",
      "A_B is singular.\n",
      "A_B is singular.\n",
      "A_B is singular.\n",
      "A_B is singular.\n",
      "A_B is singular.\n",
      "A_B is singular.\n",
      "A_B is singular.\n",
      "A_B is singular.\n",
      "A_B is singular.\n",
      "A_B is singular.\n",
      "A_B is singular.\n",
      "A_B is singular.\n",
      "A_B is singular.\n",
      "A_B is singular.\n",
      "A_B is singular.\n",
      "A_B is singular.\n",
      "A_B is singular.\n",
      "A_B is singular.\n",
      "A_B is singular.\n",
      "A_B is singular.\n",
      "A_B is singular.\n",
      "A_B is singular.\n",
      "A_B is singular.\n",
      "A_B is singular.\n",
      "A_B is singular.\n",
      "A_B is singular.\n",
      "Time Cost 55.89914870262146\n",
      "Loss 0.00024418326613160403 Error 1.7554356640677662 Normalized Error 1.0224141434559515\n",
      "Method Rbf Kernelized SVM Margin Learning\n",
      "Training samples 500\n",
      "A_B is singular.\n",
      "A_B is singular.\n",
      "A_B is singular.\n",
      "A_B is singular.\n",
      "A_B is singular.\n",
      "A_B is singular.\n",
      "A_B is singular.\n",
      "A_B is singular.\n",
      "A_B is singular.\n",
      "A_B is singular.\n",
      "A_B is singular.\n",
      "A_B is singular.\n",
      "A_B is singular.\n",
      "A_B is singular.\n",
      "A_B is singular.\n",
      "A_B is singular.\n",
      "A_B is singular.\n",
      "A_B is singular.\n",
      "A_B is singular.\n",
      "A_B is singular.\n",
      "A_B is singular.\n",
      "A_B is singular.\n",
      "A_B is singular.\n",
      "A_B is singular.\n",
      "A_B is singular.\n",
      "A_B is singular.\n",
      "A_B is singular.\n",
      "A_B is singular.\n",
      "A_B is singular.\n",
      "A_B is singular.\n",
      "A_B is singular.\n",
      "A_B is singular.\n",
      "A_B is singular.\n",
      "A_B is singular.\n",
      "A_B is singular.\n",
      "A_B is singular.\n",
      "A_B is singular.\n",
      "A_B is singular.\n",
      "A_B is singular.\n",
      "A_B is singular.\n",
      "A_B is singular.\n",
      "A_B is singular.\n",
      "A_B is singular.\n",
      "A_B is singular.\n",
      "A_B is singular.\n",
      "A_B is singular.\n",
      "A_B is singular.\n",
      "A_B is singular.\n",
      "A_B is singular.\n",
      "A_B is singular.\n",
      "A_B is singular.\n",
      "A_B is singular.\n",
      "A_B is singular.\n",
      "A_B is singular.\n",
      "A_B is singular.\n",
      "A_B is singular.\n",
      "A_B is singular.\n",
      "A_B is singular.\n",
      "A_B is singular.\n",
      "A_B is singular.\n",
      "A_B is singular.\n",
      "A_B is singular.\n",
      "A_B is singular.\n",
      "Time Cost 50.180410385131836\n",
      "Loss 0.0008356257272819741 Error 1.1328631210203954 Normalized Error 1.0763875784338484\n",
      "*********************************************************\n",
      "Trial 7\n",
      "Time cost 4.21696400642395\n",
      "Method Random Forest\n",
      "Training samples 500\n",
      "Time Cost 0.28757452964782715\n",
      "Loss 0.00342949576207983 Error 1.260502373278072 Normalized Error 0.3412356207381685\n",
      "Method Ordinary Least Squares\n",
      "Training samples 500\n",
      "Time Cost 1.6262741088867188\n",
      "Loss 0.013980550459908918 Error 18.35586753477275 Normalized Error 0.7911685660038874\n",
      "Method Ridge Regression\n",
      "Training samples 500\n",
      "Time Cost 1.6060853004455566\n",
      "Loss 0.013980550459908918 Error 18.355571813238758 Normalized Error 0.7911682375042597\n",
      "Method PolyKer Ridge Regression\n",
      "Training samples 500\n",
      "Time Cost 18.49332070350647\n",
      "Loss 0.21853017736402183 Error 28.713718636963733 Normalized Error 0.8625567494355564\n",
      "Method RbfKer Ridge Regression\n",
      "Training samples 500\n",
      "Time Cost 17.543073654174805\n",
      "Loss 0.1733921571826917 Error 0.9640839291113591 Normalized Error 0.40698740364812624\n",
      "Method SPO+\n",
      "Training samples 500\n"
     ]
    },
    {
     "data": {
      "image/png": "[encoded data removed]",
      "text/plain": [
       "<Figure size 432x288 with 1 Axes>"
      ]
     },
     "metadata": {
      "needs_background": "light"
     },
     "output_type": "display_data"
    },
    {
     "name": "stdout",
     "output_type": "stream",
     "text": [
      "Time Cost 38.03765392303467\n",
      "Loss 0.20581617817691467 Error 2.8073925649388123 Normalized Error 1.1862714412950532\n",
      "Method SVM Margin Learning\n",
      "Training samples 500\n",
      "A_B is singular.\n",
      "A_B is singular.\n",
      "A_B is singular.\n",
      "A_B is singular.\n",
      "A_B is singular.\n",
      "A_B is singular.\n",
      "A_B is singular.\n",
      "A_B is singular.\n",
      "A_B is singular.\n",
      "A_B is singular.\n",
      "A_B is singular.\n",
      "A_B is singular.\n",
      "A_B is singular.\n",
      "A_B is singular.\n",
      "A_B is singular.\n",
      "A_B is singular.\n",
      "A_B is singular.\n",
      "A_B is singular.\n",
      "A_B is singular.\n",
      "A_B is singular.\n",
      "A_B is singular.\n",
      "A_B is singular.\n",
      "A_B is singular.\n",
      "A_B is singular.\n",
      "A_B is singular.\n",
      "A_B is singular.\n",
      "A_B is singular.\n",
      "A_B is singular.\n",
      "A_B is singular.\n",
      "A_B is singular.\n",
      "A_B is singular.\n",
      "A_B is singular.\n",
      "A_B is singular.\n",
      "A_B is singular.\n",
      "A_B is singular.\n",
      "A_B is singular.\n",
      "A_B is singular.\n",
      "A_B is singular.\n",
      "A_B is singular.\n",
      "A_B is singular.\n",
      "A_B is singular.\n",
      "A_B is singular.\n",
      "A_B is singular.\n",
      "A_B is singular.\n",
      "A_B is singular.\n",
      "A_B is singular.\n",
      "A_B is singular.\n",
      "A_B is singular.\n",
      "A_B is singular.\n",
      "A_B is singular.\n",
      "A_B is singular.\n",
      "A_B is singular.\n",
      "A_B is singular.\n",
      "A_B is singular.\n",
      "A_B is singular.\n",
      "A_B is singular.\n",
      "A_B is singular.\n",
      "A_B is singular.\n",
      "A_B is singular.\n",
      "A_B is singular.\n",
      "A_B is singular.\n",
      "A_B is singular.\n",
      "A_B is singular.\n",
      "A_B is singular.\n",
      "A_B is singular.\n",
      "A_B is singular.\n",
      "A_B is singular.\n",
      "A_B is singular.\n",
      "A_B is singular.\n",
      "A_B is singular.\n",
      "A_B is singular.\n",
      "A_B is singular.\n",
      "A_B is singular.\n",
      "A_B is singular.\n",
      "A_B is singular.\n",
      "A_B is singular.\n",
      "A_B is singular.\n",
      "A_B is singular.\n",
      "A_B is singular.\n",
      "A_B is singular.\n",
      "A_B is singular.\n",
      "A_B is singular.\n",
      "A_B is singular.\n",
      "A_B is singular.\n",
      "A_B is singular.\n",
      "A_B is singular.\n",
      "A_B is singular.\n",
      "A_B is singular.\n",
      "A_B is singular.\n",
      "A_B is singular.\n",
      "A_B is singular.\n",
      "A_B is singular.\n",
      "A_B is singular.\n",
      "A_B is singular.\n",
      "A_B is singular.\n",
      "A_B is singular.\n",
      "A_B is singular.\n",
      "A_B is singular.\n",
      "A_B is singular.\n",
      "A_B is singular.\n",
      "A_B is singular.\n",
      "A_B is singular.\n",
      "A_B is singular.\n",
      "A_B is singular.\n",
      "A_B is singular.\n",
      "A_B is singular.\n",
      "A_B is singular.\n",
      "A_B is singular.\n",
      "A_B is singular.\n",
      "A_B is singular.\n",
      "A_B is singular.\n",
      "A_B is singular.\n",
      "A_B is singular.\n",
      "A_B is singular.\n",
      "A_B is singular.\n",
      "A_B is singular.\n",
      "A_B is singular.\n",
      "A_B is singular.\n",
      "A_B is singular.\n",
      "A_B is singular.\n",
      "A_B is singular.\n",
      "A_B is singular.\n",
      "A_B is singular.\n",
      "A_B is singular.\n",
      "A_B is singular.\n",
      "A_B is singular.\n",
      "A_B is singular.\n",
      "A_B is singular.\n",
      "A_B is singular.\n",
      "A_B is singular.\n",
      "A_B is singular.\n",
      "A_B is singular.\n",
      "A_B is singular.\n",
      "A_B is singular.\n",
      "A_B is singular.\n",
      "A_B is singular.\n",
      "A_B is singular.\n",
      "A_B is singular.\n",
      "A_B is singular.\n",
      "A_B is singular.\n",
      "A_B is singular.\n",
      "A_B is singular.\n",
      "A_B is singular.\n",
      "A_B is singular.\n",
      "A_B is singular.\n",
      "A_B is singular.\n",
      "A_B is singular.\n",
      "A_B is singular.\n",
      "A_B is singular.\n",
      "A_B is singular.\n",
      "A_B is singular.\n",
      "A_B is singular.\n",
      "A_B is singular.\n",
      "A_B is singular.\n",
      "A_B is singular.\n",
      "A_B is singular.\n",
      "Time Cost 1.139000415802002\n",
      "Loss 0.04281904114612812 Error 1.5772856118816665 Normalized Error 1.183326734116147\n",
      "Method Poly-Kernelized SVM Margin Learning\n",
      "Training samples 500\n",
      "A_B is singular.\n",
      "A_B is singular.\n",
      "A_B is singular.\n",
      "A_B is singular.\n",
      "A_B is singular.\n",
      "A_B is singular.\n",
      "A_B is singular.\n",
      "A_B is singular.\n",
      "A_B is singular.\n",
      "A_B is singular.\n",
      "A_B is singular.\n",
      "A_B is singular.\n",
      "A_B is singular.\n",
      "A_B is singular.\n",
      "A_B is singular.\n",
      "A_B is singular.\n",
      "A_B is singular.\n",
      "A_B is singular.\n",
      "A_B is singular.\n",
      "A_B is singular.\n",
      "A_B is singular.\n",
      "A_B is singular.\n",
      "A_B is singular.\n",
      "A_B is singular.\n",
      "A_B is singular.\n",
      "A_B is singular.\n",
      "A_B is singular.\n",
      "A_B is singular.\n",
      "A_B is singular.\n",
      "A_B is singular.\n",
      "A_B is singular.\n",
      "A_B is singular.\n",
      "A_B is singular.\n",
      "A_B is singular.\n",
      "A_B is singular.\n",
      "A_B is singular.\n",
      "A_B is singular.\n",
      "A_B is singular.\n",
      "A_B is singular.\n",
      "A_B is singular.\n",
      "A_B is singular.\n",
      "A_B is singular.\n",
      "A_B is singular.\n",
      "A_B is singular.\n",
      "A_B is singular.\n",
      "A_B is singular.\n",
      "A_B is singular.\n",
      "A_B is singular.\n",
      "A_B is singular.\n",
      "A_B is singular.\n",
      "A_B is singular.\n",
      "A_B is singular.\n",
      "A_B is singular.\n",
      "A_B is singular.\n",
      "A_B is singular.\n",
      "A_B is singular.\n",
      "A_B is singular.\n",
      "A_B is singular.\n",
      "A_B is singular.\n",
      "A_B is singular.\n",
      "A_B is singular.\n",
      "A_B is singular.\n",
      "A_B is singular.\n",
      "A_B is singular.\n",
      "A_B is singular.\n",
      "A_B is singular.\n",
      "A_B is singular.\n",
      "A_B is singular.\n",
      "A_B is singular.\n",
      "A_B is singular.\n",
      "A_B is singular.\n",
      "A_B is singular.\n",
      "A_B is singular.\n",
      "A_B is singular.\n",
      "A_B is singular.\n",
      "A_B is singular.\n",
      "A_B is singular.\n",
      "A_B is singular.\n",
      "A_B is singular.\n",
      "A_B is singular.\n",
      "A_B is singular.\n",
      "A_B is singular.\n",
      "A_B is singular.\n",
      "A_B is singular.\n",
      "A_B is singular.\n",
      "A_B is singular.\n",
      "A_B is singular.\n",
      "A_B is singular.\n",
      "A_B is singular.\n",
      "A_B is singular.\n",
      "A_B is singular.\n",
      "A_B is singular.\n",
      "A_B is singular.\n",
      "A_B is singular.\n",
      "A_B is singular.\n",
      "A_B is singular.\n",
      "A_B is singular.\n",
      "A_B is singular.\n",
      "A_B is singular.\n",
      "A_B is singular.\n",
      "A_B is singular.\n",
      "A_B is singular.\n",
      "A_B is singular.\n",
      "A_B is singular.\n",
      "A_B is singular.\n",
      "A_B is singular.\n",
      "A_B is singular.\n",
      "A_B is singular.\n",
      "A_B is singular.\n",
      "A_B is singular.\n",
      "A_B is singular.\n",
      "A_B is singular.\n",
      "A_B is singular.\n",
      "A_B is singular.\n",
      "A_B is singular.\n",
      "A_B is singular.\n",
      "A_B is singular.\n",
      "A_B is singular.\n",
      "A_B is singular.\n",
      "A_B is singular.\n",
      "A_B is singular.\n",
      "A_B is singular.\n",
      "A_B is singular.\n",
      "A_B is singular.\n",
      "A_B is singular.\n",
      "A_B is singular.\n",
      "A_B is singular.\n",
      "A_B is singular.\n",
      "A_B is singular.\n",
      "A_B is singular.\n",
      "A_B is singular.\n",
      "A_B is singular.\n",
      "A_B is singular.\n",
      "A_B is singular.\n",
      "A_B is singular.\n",
      "A_B is singular.\n",
      "A_B is singular.\n",
      "A_B is singular.\n",
      "A_B is singular.\n",
      "A_B is singular.\n",
      "A_B is singular.\n",
      "A_B is singular.\n",
      "A_B is singular.\n",
      "A_B is singular.\n",
      "A_B is singular.\n",
      "A_B is singular.\n",
      "A_B is singular.\n",
      "A_B is singular.\n",
      "A_B is singular.\n",
      "A_B is singular.\n",
      "A_B is singular.\n",
      "A_B is singular.\n",
      "A_B is singular.\n",
      "A_B is singular.\n",
      "A_B is singular.\n",
      "A_B is singular.\n",
      "Time Cost 30.41059947013855\n",
      "Loss 0.00014198667363062524 Error 1.603998060653996 Normalized Error 0.999584949876563\n",
      "Method Rbf Kernelized SVM Margin Learning\n",
      "Training samples 500\n",
      "A_B is singular.\n",
      "A_B is singular.\n",
      "A_B is singular.\n",
      "A_B is singular.\n",
      "A_B is singular.\n",
      "A_B is singular.\n",
      "A_B is singular.\n",
      "A_B is singular.\n",
      "A_B is singular.\n",
      "A_B is singular.\n",
      "A_B is singular.\n",
      "A_B is singular.\n",
      "A_B is singular.\n",
      "A_B is singular.\n",
      "A_B is singular.\n",
      "A_B is singular.\n",
      "A_B is singular.\n",
      "A_B is singular.\n",
      "A_B is singular.\n",
      "A_B is singular.\n",
      "A_B is singular.\n",
      "A_B is singular.\n",
      "A_B is singular.\n",
      "A_B is singular.\n",
      "A_B is singular.\n",
      "A_B is singular.\n",
      "A_B is singular.\n",
      "A_B is singular.\n",
      "A_B is singular.\n",
      "A_B is singular.\n",
      "A_B is singular.\n",
      "A_B is singular.\n",
      "A_B is singular.\n",
      "A_B is singular.\n",
      "A_B is singular.\n",
      "A_B is singular.\n",
      "A_B is singular.\n",
      "A_B is singular.\n",
      "A_B is singular.\n",
      "A_B is singular.\n",
      "A_B is singular.\n",
      "A_B is singular.\n",
      "A_B is singular.\n",
      "A_B is singular.\n",
      "A_B is singular.\n",
      "A_B is singular.\n",
      "A_B is singular.\n",
      "A_B is singular.\n",
      "A_B is singular.\n",
      "A_B is singular.\n",
      "A_B is singular.\n",
      "A_B is singular.\n",
      "A_B is singular.\n",
      "A_B is singular.\n",
      "A_B is singular.\n",
      "A_B is singular.\n",
      "A_B is singular.\n",
      "A_B is singular.\n",
      "A_B is singular.\n",
      "A_B is singular.\n",
      "A_B is singular.\n",
      "A_B is singular.\n",
      "A_B is singular.\n",
      "A_B is singular.\n",
      "A_B is singular.\n",
      "A_B is singular.\n",
      "A_B is singular.\n",
      "A_B is singular.\n",
      "A_B is singular.\n",
      "A_B is singular.\n",
      "A_B is singular.\n",
      "A_B is singular.\n",
      "A_B is singular.\n",
      "A_B is singular.\n",
      "A_B is singular.\n",
      "A_B is singular.\n",
      "A_B is singular.\n",
      "A_B is singular.\n",
      "A_B is singular.\n",
      "A_B is singular.\n",
      "A_B is singular.\n",
      "A_B is singular.\n",
      "A_B is singular.\n",
      "A_B is singular.\n",
      "A_B is singular.\n",
      "A_B is singular.\n",
      "A_B is singular.\n",
      "A_B is singular.\n",
      "A_B is singular.\n",
      "A_B is singular.\n",
      "A_B is singular.\n",
      "A_B is singular.\n",
      "A_B is singular.\n",
      "A_B is singular.\n",
      "A_B is singular.\n",
      "A_B is singular.\n",
      "A_B is singular.\n",
      "A_B is singular.\n",
      "A_B is singular.\n",
      "A_B is singular.\n",
      "A_B is singular.\n",
      "A_B is singular.\n",
      "A_B is singular.\n",
      "A_B is singular.\n",
      "A_B is singular.\n",
      "A_B is singular.\n",
      "A_B is singular.\n",
      "A_B is singular.\n",
      "A_B is singular.\n",
      "A_B is singular.\n",
      "A_B is singular.\n",
      "A_B is singular.\n",
      "A_B is singular.\n",
      "A_B is singular.\n",
      "A_B is singular.\n",
      "A_B is singular.\n",
      "A_B is singular.\n",
      "A_B is singular.\n",
      "A_B is singular.\n",
      "A_B is singular.\n",
      "A_B is singular.\n",
      "A_B is singular.\n",
      "A_B is singular.\n",
      "A_B is singular.\n",
      "A_B is singular.\n",
      "A_B is singular.\n",
      "A_B is singular.\n",
      "A_B is singular.\n",
      "A_B is singular.\n",
      "A_B is singular.\n",
      "A_B is singular.\n",
      "A_B is singular.\n",
      "A_B is singular.\n",
      "A_B is singular.\n",
      "A_B is singular.\n",
      "A_B is singular.\n",
      "A_B is singular.\n",
      "A_B is singular.\n",
      "A_B is singular.\n",
      "A_B is singular.\n",
      "A_B is singular.\n",
      "A_B is singular.\n",
      "A_B is singular.\n",
      "A_B is singular.\n",
      "A_B is singular.\n",
      "A_B is singular.\n",
      "A_B is singular.\n",
      "A_B is singular.\n",
      "A_B is singular.\n",
      "A_B is singular.\n",
      "A_B is singular.\n",
      "A_B is singular.\n",
      "A_B is singular.\n",
      "A_B is singular.\n",
      "A_B is singular.\n",
      "A_B is singular.\n"
     ]
    },
    {
     "name": "stdout",
     "output_type": "stream",
     "text": [
      "Time Cost 31.520647048950195\n",
      "Loss 0.0003286697341352264 Error 1.5229527998261403 Normalized Error 1.1048518847729465\n",
      "*********************************************************\n",
      "Trial 8\n",
      "Time cost 4.212001800537109\n",
      "Method Random Forest\n",
      "Training samples 500\n",
      "Time Cost 0.29207563400268555\n",
      "Loss 0.004565462968127841 Error 1.3248412115383605 Normalized Error 0.35976903351992334\n",
      "Method Ordinary Least Squares\n",
      "Training samples 500\n",
      "Time Cost 1.5847809314727783\n",
      "Loss 0.045614245894478704 Error 9.555627711796511 Normalized Error 0.7565887493835166\n",
      "Method Ridge Regression\n",
      "Training samples 500\n",
      "Time Cost 1.544426679611206\n",
      "Loss 0.045614245894478704 Error 9.555363017982458 Normalized Error 0.756588373453018\n",
      "Method PolyKer Ridge Regression\n",
      "Training samples 500\n",
      "Time Cost 18.92702293395996\n",
      "Loss 0.14050801428896562 Error 9.764751975442595 Normalized Error 0.7584259252839272\n",
      "Method RbfKer Ridge Regression\n",
      "Training samples 500\n",
      "Time Cost 18.550423860549927\n",
      "Loss 0.09795096024747742 Error 0.5338397788894035 Normalized Error 0.30072266203369713\n",
      "Method SPO+\n",
      "Training samples 500\n"
     ]
    },
    {
     "data": {
      "image/png": "[encoded data removed]",
      "text/plain": [
       "<Figure size 432x288 with 1 Axes>"
      ]
     },
     "metadata": {
      "needs_background": "light"
     },
     "output_type": "display_data"
    },
    {
     "name": "stdout",
     "output_type": "stream",
     "text": [
      "Time Cost 37.47823667526245\n",
      "Loss 0.055671537986216116 Error 29.34173913815996 Normalized Error 1.403412945393033\n",
      "Method SVM Margin Learning\n",
      "Training samples 500\n",
      "A_B is singular.\n",
      "A_B is singular.\n",
      "A_B is singular.\n",
      "A_B is singular.\n",
      "A_B is singular.\n",
      "A_B is singular.\n",
      "A_B is singular.\n",
      "A_B is singular.\n",
      "A_B is singular.\n",
      "A_B is singular.\n",
      "A_B is singular.\n",
      "A_B is singular.\n",
      "A_B is singular.\n",
      "A_B is singular.\n",
      "A_B is singular.\n",
      "A_B is singular.\n",
      "A_B is singular.\n",
      "A_B is singular.\n",
      "A_B is singular.\n",
      "A_B is singular.\n",
      "A_B is singular.\n",
      "A_B is singular.\n",
      "A_B is singular.\n",
      "A_B is singular.\n",
      "A_B is singular.\n",
      "A_B is singular.\n",
      "A_B is singular.\n",
      "A_B is singular.\n",
      "A_B is singular.\n",
      "A_B is singular.\n",
      "A_B is singular.\n",
      "A_B is singular.\n",
      "A_B is singular.\n",
      "A_B is singular.\n",
      "Time Cost 1.6541650295257568\n",
      "Loss 0.005367282267736548 Error 1.121783638110859 Normalized Error 1.182566217013523\n",
      "Method Poly-Kernelized SVM Margin Learning\n",
      "Training samples 500\n",
      "A_B is singular.\n",
      "A_B is singular.\n",
      "A_B is singular.\n",
      "A_B is singular.\n",
      "A_B is singular.\n",
      "A_B is singular.\n",
      "A_B is singular.\n",
      "A_B is singular.\n",
      "A_B is singular.\n",
      "A_B is singular.\n",
      "A_B is singular.\n",
      "A_B is singular.\n",
      "A_B is singular.\n",
      "A_B is singular.\n",
      "A_B is singular.\n",
      "A_B is singular.\n",
      "A_B is singular.\n",
      "A_B is singular.\n",
      "A_B is singular.\n",
      "A_B is singular.\n",
      "A_B is singular.\n",
      "A_B is singular.\n",
      "A_B is singular.\n",
      "A_B is singular.\n",
      "A_B is singular.\n",
      "A_B is singular.\n",
      "A_B is singular.\n",
      "A_B is singular.\n",
      "A_B is singular.\n",
      "A_B is singular.\n",
      "A_B is singular.\n",
      "A_B is singular.\n",
      "A_B is singular.\n",
      "A_B is singular.\n",
      "Time Cost 71.66025400161743\n",
      "Loss 6.64047030908421e-05 Error 2.15240957972536 Normalized Error 1.0849374139843162\n",
      "Method Rbf Kernelized SVM Margin Learning\n",
      "Training samples 500\n",
      "A_B is singular.\n",
      "A_B is singular.\n",
      "A_B is singular.\n",
      "A_B is singular.\n",
      "A_B is singular.\n",
      "A_B is singular.\n",
      "A_B is singular.\n",
      "A_B is singular.\n",
      "A_B is singular.\n",
      "A_B is singular.\n",
      "A_B is singular.\n",
      "A_B is singular.\n",
      "A_B is singular.\n",
      "A_B is singular.\n",
      "A_B is singular.\n",
      "A_B is singular.\n",
      "A_B is singular.\n",
      "A_B is singular.\n",
      "A_B is singular.\n",
      "A_B is singular.\n",
      "A_B is singular.\n",
      "A_B is singular.\n",
      "A_B is singular.\n",
      "A_B is singular.\n",
      "A_B is singular.\n",
      "A_B is singular.\n",
      "A_B is singular.\n",
      "A_B is singular.\n",
      "A_B is singular.\n",
      "A_B is singular.\n",
      "A_B is singular.\n",
      "A_B is singular.\n",
      "A_B is singular.\n",
      "A_B is singular.\n",
      "Time Cost 68.31369495391846\n",
      "Loss 0.0002891633861456485 Error 1.181897694673296 Normalized Error 1.1121982299494977\n",
      "*********************************************************\n",
      "Trial 9\n",
      "Time cost 4.209823131561279\n",
      "Method Random Forest\n",
      "Training samples 500\n",
      "Time Cost 0.27466392517089844\n",
      "Loss 0.04500189877023995 Error 0.7636948382393945 Normalized Error 0.27792438231369854\n",
      "Method Ordinary Least Squares\n",
      "Training samples 500\n",
      "Time Cost 1.646963357925415\n",
      "Loss 0.15725930495552012 Error 11.78646836166157 Normalized Error 0.7527964547998635\n",
      "Method Ridge Regression\n",
      "Training samples 500\n",
      "Time Cost 1.5621402263641357\n",
      "Loss 0.15725930495552012 Error 11.786139597270575 Normalized Error 0.7527966378714737\n",
      "Method PolyKer Ridge Regression\n",
      "Training samples 500\n",
      "Time Cost 18.455530881881714\n",
      "Loss 0.18074233245122856 Error 12.650846587606841 Normalized Error 0.766564581117765\n",
      "Method RbfKer Ridge Regression\n",
      "Training samples 500\n",
      "Time Cost 18.62482261657715\n",
      "Loss 0.08894480716009211 Error 0.46585187409420076 Normalized Error 0.25197066281299296\n",
      "Method SPO+\n",
      "Training samples 500\n"
     ]
    },
    {
     "data": {
      "image/png": "[encoded data removed]",
      "text/plain": [
       "<Figure size 432x288 with 1 Axes>"
      ]
     },
     "metadata": {
      "needs_background": "light"
     },
     "output_type": "display_data"
    },
    {
     "name": "stdout",
     "output_type": "stream",
     "text": [
      "Time Cost 37.25338959693909\n",
      "Loss 0.11773495197262068 Error 26.665664580572766 Normalized Error 1.3970986898741211\n",
      "Method SVM Margin Learning\n",
      "Training samples 500\n",
      "Time Cost 1.5055971145629883\n",
      "Loss 0.060427768590161544 Error 1.0792172036124328 Normalized Error 1.0867924606711235\n",
      "Method Poly-Kernelized SVM Margin Learning\n",
      "Training samples 500\n",
      "Time Cost 59.33259129524231\n",
      "Loss 0.0021612669730584166 Error 1.2997300846389057 Normalized Error 0.9692212813794135\n",
      "Method Rbf Kernelized SVM Margin Learning\n",
      "Training samples 500\n",
      "Time Cost 49.764418601989746\n",
      "Loss 0.007846290820052783 Error 1.1439076257437308 Normalized Error 1.0023783932007062\n",
      "*********************************************************\n",
      "Trial 10\n",
      "Time cost 4.32668399810791\n",
      "Method Random Forest\n",
      "Training samples 500\n",
      "Time Cost 0.28999948501586914\n",
      "Loss 0.10201830031014532 Error 1.6756046599365908 Normalized Error 0.3963186101412571\n",
      "Method Ordinary Least Squares\n",
      "Training samples 500\n",
      "Time Cost 1.6390018463134766\n",
      "Loss 0.3871561359043627 Error 31.159288672467273 Normalized Error 0.8005874083999975\n",
      "Method Ridge Regression\n",
      "Training samples 500\n",
      "Time Cost 1.606706142425537\n",
      "Loss 0.3871561359043627 Error 31.158615654622853 Normalized Error 0.8005858801180341\n",
      "Method PolyKer Ridge Regression\n",
      "Training samples 500\n",
      "Time Cost 18.76182270050049\n",
      "Loss 0.17415370096561364 Error 36.69250311535607 Normalized Error 0.7399128354353726\n",
      "Method RbfKer Ridge Regression\n",
      "Training samples 500\n",
      "Time Cost 18.757211446762085\n",
      "Loss 0.15898879373392782 Error 1.4520999436888682 Normalized Error 0.4031040912402086\n",
      "Method SPO+\n",
      "Training samples 500\n"
     ]
    },
    {
     "data": {
      "image/png": "[encoded data removed]",
      "text/plain": [
       "<Figure size 432x288 with 1 Axes>"
      ]
     },
     "metadata": {
      "needs_background": "light"
     },
     "output_type": "display_data"
    },
    {
     "name": "stdout",
     "output_type": "stream",
     "text": [
      "Time Cost 38.021010875701904\n",
      "Loss 0.35304703032502155 Error 273.300301604782 Normalized Error 1.4105390699842202\n",
      "Method SVM Margin Learning\n",
      "Training samples 500\n",
      "Time Cost 1.6060621738433838\n",
      "Loss 0.3265319935654879 Error 2.64368404952127 Normalized Error 1.1484513077635334\n",
      "Method Poly-Kernelized SVM Margin Learning\n",
      "Training samples 500\n",
      "Time Cost 62.685537338256836\n",
      "Loss 0.0026852320369299895 Error 4.0686356288297905 Normalized Error 0.9021007226271407\n",
      "Method Rbf Kernelized SVM Margin Learning\n",
      "Training samples 500\n",
      "Time Cost 61.24206495285034\n",
      "Loss 0.007033837675025522 Error 3.6381518030370144 Normalized Error 0.9827974228825014\n"
     ]
    }
   ],
   "source": [
    "for trial in range(total_trial):\n",
    "    # Generate Fractional Knapsack Samples\n",
    "    benchmark = 1\n",
    "    dim_features = 5\n",
    "    dim_decision = 10\n",
    "    price = np.random.randint(low=1, high=1000, size=dim_decision)\n",
    "    lower = np.amax(price)\n",
    "    upper = (np.random.rand()-1)*lower + np.sum(price)\n",
    "    Budget = [(upper-lower)*np.random.rand() + lower]\n",
    "    Coeff_Mat = np.random.binomial(n=1, p=0.5, size = (dim_decision, dim_features))\n",
    "    Theta_true = -np.concatenate((Coeff_Mat, np.zeros((dim_decision+1, dim_features))), axis=0)\n",
    "    print(\"*********************************************************\")\n",
    "    print(\"Trial\", trial + 1)\n",
    "    \n",
    "    N_train = 500\n",
    "    # N_valid = 200\n",
    "    N_test = 1000\n",
    "    degree = 6\n",
    "    additive_noise = 0.0\n",
    "    scale_noise_uni = 0.0\n",
    "    scale_noise_div = 0.0\n",
    "    attack_threshold = None\n",
    "    attack_power = 0.0\n",
    "    z_train, c_train, A_train, b_train = dg.GenerateFractionalKnapsack(N_samples=N_train, dim_features=dim_features, dim_decision=dim_decision, Coeff_Mat=Coeff_Mat, price=price, Budget=Budget,\n",
    "                                        degree=degree, additive_noise=additive_noise, scale_noise_uni=scale_noise_uni, scale_noise_div=scale_noise_div, attack_threshold = attack_threshold, attack_power = attack_power)\n",
    "    # z_valid, c_valid, A_valid, b_valid = dg.GenerateFractionalKnapsack(N_samples=N_valid, dim_features=dim_features, dim_decision=dim_decision, Coeff_Mat=Coeff_Mat, price=price, Budget=Budget,\n",
    "    #                                     degree=degree, additive_noise=additive_noise, scale_noise_uni=scale_noise_uni, scale_noise_div=scale_noise_div, attack_threshold = attack_threshold, attack_power = attack_power)\n",
    "    z_test, c_test, A_test, b_test = dg.GenerateFractionalKnapsack(N_samples=N_test, dim_features=dim_features, dim_decision=dim_decision, Coeff_Mat=Coeff_Mat, price=price, Budget=Budget,\n",
    "                                        degree=degree, additive_noise=additive_noise, scale_noise_uni=scale_noise_uni, scale_noise_div=scale_noise_div, attack_threshold = attack_threshold, attack_power = attack_power)\n",
    "    # Compute Optimal Solutions\n",
    "    start = time.time()\n",
    "    basic_train, nonb_train, solution_train = lpm.ComputeBasis(c=c_train, A=A_train, b=b_train)\n",
    "    #basic_valid, nonb_valid, solution_valid = lpm.ComputeBasis(c=c_valid, A=A_valid, b=b_valid)\n",
    "    basic_test, nonb_test, solution_test = lpm.ComputeBasis(c=c_test, A=A_test, b=b_test)\n",
    "    print(\"Time cost\", time.time() - start)\n",
    "    \n",
    "    \n",
    "    # Random Forest\n",
    "    # No Theta, directly predict c\n",
    "    alg = 'RF'\n",
    "    print(\"Method Random Forest\")\n",
    "    print(\"Training samples\", N_train)\n",
    "    start = time.time()\n",
    "    regr = RandomForestRegressor(random_state=0)\n",
    "    regr.fit(z_train, c_train)\n",
    "    hat_c = regr.predict(z_test)\n",
    "    globals()[\"time_\"+alg] = time.time() - start\n",
    "    print(\"Time Cost\", globals()[\"time_\"+alg])\n",
    "    globals()[\"loss_\"+alg], globals()[\"error_\"+alg], globals()[\"norm_err_\"+alg] = lpm.ComputeLoss(benchmark = benchmark, A=A_test, b=b_test, c=c_test, z=z_test,\n",
    "                                                                                             direct=True, hat_c=hat_c, solved = True, solution=solution_test)\n",
    "    print(\"Loss\", np.average(globals()[\"loss_\"+alg]), \"Error\", np.average(globals()[\"error_\"+alg]), \"Normalized Error\", np.average(globals()[\"norm_err_\"+alg]))\n",
    "    mark = 0\n",
    "    for j in range(len(globals()[focus + \"_set\"])):\n",
    "        if globals()[focus] == globals()[focus + \"_set\"][j]:\n",
    "            mark = j\n",
    "    globals()[\"Loss_\" + alg][trial][mark] = np.average(globals()[\"loss_\" + alg])\n",
    "    globals()[\"Error_\" + alg][trial][mark] = np.average(globals()[\"error_\" + alg])\n",
    "    globals()[\"Norm_Err_\" + alg][trial][mark] = np.average(globals()[\"norm_err_\" + alg])\n",
    "    \n",
    "    \n",
    "    # Ordinary Least Squares\n",
    "    alg = 'OLS'\n",
    "    print(\"Method Ordinary Least Squares\")\n",
    "    print(\"Training samples\", N_train)\n",
    "    start = time.time()\n",
    "    globals()[\"Theta_\"+alg] = lm.OrdinaryLeastSquares(A = A_train, b = b_train, c = c_train, z = z_train)\n",
    "    globals()[\"time_\"+alg] = time.time() - start\n",
    "    print(\"Time Cost\", globals()[\"time_\"+alg])\n",
    "    globals()[\"loss_\"+alg], globals()[\"error_\"+alg], globals()[\"norm_err_\"+alg] = lpm.ComputeLoss(benchmark = benchmark,A = A_test, b = b_test, c = c_test, z = z_test, direct = False,\n",
    "                                                                                                    Theta = globals()[\"Theta_\"+alg], solved = True, solution = solution_test)\n",
    "    print(\"Loss\", np.average(globals()[\"loss_\"+alg]), \"Error\", np.average(globals()[\"error_\"+alg]), \"Normalized Error\", np.average(globals()[\"norm_err_\"+alg]))\n",
    "    mark = 0\n",
    "    for j in range(len(globals()[focus + \"_set\"])):\n",
    "        if globals()[focus] == globals()[focus + \"_set\"][j]:\n",
    "            mark = j\n",
    "    globals()[\"Loss_\" + alg][trial][mark] = np.average(globals()[\"loss_\" + alg])\n",
    "    globals()[\"Error_\" + alg][trial][mark] = np.average(globals()[\"error_\" + alg])\n",
    "    globals()[\"Norm_Err_\" + alg][trial][mark] = np.average(globals()[\"norm_err_\" + alg])\n",
    "    \n",
    "    \n",
    "    # Ridge Regression\n",
    "    alg = 'Ridge'\n",
    "    print(\"Method Ridge Regression\")\n",
    "    print(\"Training samples\", N_train)\n",
    "    start = time.time()\n",
    "    globals()[\"Theta_\"+alg] = lm.RidgeRegression(A = A_train, b = b_train, c = c_train,  z = z_train, regular_const = 1e-2)\n",
    "    globals()[\"time_\"+alg] = time.time() - start\n",
    "    print(\"Time Cost\", globals()[\"time_\"+alg])\n",
    "    globals()[\"loss_\"+alg], globals()[\"error_\"+alg], globals()[\"norm_err_\"+alg] = lpm.ComputeLoss(benchmark = benchmark,A = A_test, b = b_test, c = c_test, z = z_test, direct = False,\n",
    "                                                                                                    Theta = globals()[\"Theta_\"+alg], solved = True, solution = solution_test)\n",
    "    print(\"Loss\", np.average(globals()[\"loss_\"+alg]), \"Error\", np.average(globals()[\"error_\"+alg]), \"Normalized Error\", np.average(globals()[\"norm_err_\"+alg]))\n",
    "    mark = 0\n",
    "    for j in range(len(globals()[focus + \"_set\"])):\n",
    "        if globals()[focus] == globals()[focus + \"_set\"][j]:\n",
    "            mark = j\n",
    "    globals()[\"Loss_\" + alg][trial][mark] = np.average(globals()[\"loss_\" + alg])\n",
    "    globals()[\"Error_\" + alg][trial][mark] = np.average(globals()[\"error_\" + alg])\n",
    "    globals()[\"Norm_Err_\" + alg][trial][mark] = np.average(globals()[\"norm_err_\" + alg])\n",
    "    \n",
    "    \n",
    "    # Polynomial Kernelized Ridge Regression\n",
    "    alg = 'PolyRidge'\n",
    "    print(\"Method PolyKer Ridge Regression\")\n",
    "    print(\"Training samples\", N_train)\n",
    "    ker_z_train = lm.PolyKernel(z = z_train, benchmark_z = z_train, gamma=1.0, degree=2, coef0=1.0)\n",
    "    ker_z_test = lm.PolyKernel(z = z_test, benchmark_z = z_train, gamma=1.0, degree=2, coef0=1.0)\n",
    "    start = time.time()\n",
    "    globals()[\"Theta_\"+alg] = lm.RidgeRegression(A = A_train, b = b_train, c = c_train,  z = ker_z_train, regular_const = 1e-2)\n",
    "    globals()[\"time_\"+alg] = time.time() - start\n",
    "    print(\"Time Cost\", globals()[\"time_\"+alg])\n",
    "    globals()[\"loss_\"+alg], globals()[\"error_\"+alg], globals()[\"norm_err_\"+alg] = lpm.ComputeLoss(benchmark = benchmark,A = A_test, b = b_test, c = c_test, z = ker_z_test, direct = False,\n",
    "                                                                                                    Theta = globals()[\"Theta_\"+alg], solved = True, solution = solution_test)\n",
    "    print(\"Loss\", np.average(globals()[\"loss_\"+alg]), \"Error\", np.average(globals()[\"error_\"+alg]), \"Normalized Error\", np.average(globals()[\"norm_err_\"+alg]))\n",
    "    mark = 0\n",
    "    for j in range(len(globals()[focus + \"_set\"])):\n",
    "        if globals()[focus] == globals()[focus + \"_set\"][j]:\n",
    "            mark = j\n",
    "    globals()[\"Loss_\" + alg][trial][mark] = np.average(globals()[\"loss_\" + alg])\n",
    "    globals()[\"Error_\" + alg][trial][mark] = np.average(globals()[\"error_\" + alg])\n",
    "    globals()[\"Norm_Err_\" + alg][trial][mark] = np.average(globals()[\"norm_err_\" + alg])\n",
    "    \n",
    "    \n",
    "    # Rbf Kernelized Ridge Regression\n",
    "    alg = 'RbfRidge'\n",
    "    print(\"Method RbfKer Ridge Regression\")\n",
    "    print(\"Training samples\", N_train)\n",
    "    ker_z_train = lm.ExpKernel(z = z_train, benchmark_z = z_train, gamma=1e0)\n",
    "    ker_z_test = lm.ExpKernel(z = z_test, benchmark_z = z_train, gamma=1e0)\n",
    "    start = time.time()\n",
    "    globals()[\"Theta_\"+alg] = lm.RidgeRegression(A = A_train, b = b_train, c = c_train,  z = ker_z_train, regular_const = 1e-2)\n",
    "    globals()[\"time_\"+alg] = time.time() - start\n",
    "    print(\"Time Cost\", globals()[\"time_\"+alg])\n",
    "    globals()[\"loss_\"+alg], globals()[\"error_\"+alg], globals()[\"norm_err_\"+alg] = lpm.ComputeLoss(benchmark = benchmark,A = A_test, b = b_test, c = c_test, z = ker_z_test, direct = False,\n",
    "                                                                                                    Theta = globals()[\"Theta_\"+alg], solved = True, solution = solution_test)\n",
    "    print(\"Loss\", np.average(globals()[\"loss_\"+alg]), \"Error\", np.average(globals()[\"error_\"+alg]), \"Normalized Error\", np.average(globals()[\"norm_err_\"+alg]))\n",
    "    mark = 0\n",
    "    for j in range(len(globals()[focus + \"_set\"])):\n",
    "        if globals()[focus] == globals()[focus + \"_set\"][j]:\n",
    "            mark = j\n",
    "    globals()[\"Loss_\" + alg][trial][mark] = np.average(globals()[\"loss_\" + alg])\n",
    "    globals()[\"Error_\" + alg][trial][mark] = np.average(globals()[\"error_\" + alg])\n",
    "    globals()[\"Norm_Err_\" + alg][trial][mark] = np.average(globals()[\"norm_err_\" + alg])\n",
    "    \n",
    "    # SPO+\n",
    "    alg = 'SPO+'\n",
    "    print(\"Method SPO+\")\n",
    "    print(\"Training samples\", N_train)\n",
    "    start = time.time()\n",
    "    globals()[\"Theta_\"+alg] = lm.SPOplus(A = A_train, b = b_train, c = c_train, z = z_train, \n",
    "                                         regular_const = 1e-4, step_size = 1e-1, batch_size = 5, max_iter = 1e3, \n",
    "                                         solved = True, solution = solution_train)\n",
    "    globals()[\"time_\"+alg] = time.time() - start\n",
    "    print(\"Time Cost\", globals()[\"time_\"+alg])\n",
    "    globals()[\"loss_\"+alg], globals()[\"error_\"+alg], globals()[\"norm_err_\"+alg] = lpm.ComputeLoss(benchmark = benchmark,A = A_test, b = b_test, c = c_test, z = z_test, direct = False,\n",
    "                                                                                                    Theta = globals()[\"Theta_\"+alg], solved = True, solution = solution_test)\n",
    "    print(\"Loss\", np.average(globals()[\"loss_\"+alg]), \"Error\", np.average(globals()[\"error_\"+alg]), \"Normalized Error\", np.average(globals()[\"norm_err_\"+alg]))\n",
    "    mark = 0\n",
    "    for j in range(len(globals()[focus + \"_set\"])):\n",
    "        if globals()[focus] == globals()[focus + \"_set\"][j]:\n",
    "            mark = j\n",
    "    globals()[\"Loss_\" + alg][trial][mark] = np.average(globals()[\"loss_\" + alg])\n",
    "    globals()[\"Error_\" + alg][trial][mark] = np.average(globals()[\"error_\" + alg])\n",
    "    globals()[\"Norm_Err_\" + alg][trial][mark] = np.average(globals()[\"norm_err_\" + alg])\n",
    "    \n",
    "    \n",
    "    # Margin Learning\n",
    "    # Do not need true c\n",
    "    # Do not need solution x but basis\n",
    "    alg = 'ML'\n",
    "    print(\"Method SVM Margin Learning\")\n",
    "    print(\"Training samples\", N_train)\n",
    "    start = time.time()\n",
    "    globals()[\"Theta_\"+alg] = lm.MarginLearning(A = A_train, b = b_train, z = z_train, basic = basic_train, nonb = nonb_train, \n",
    "                                                regular_const = 1e-2)\n",
    "    globals()[\"time_\"+alg] = time.time() - start\n",
    "    print(\"Time Cost\", globals()[\"time_\"+alg])\n",
    "    globals()[\"loss_\"+alg], globals()[\"error_\"+alg], globals()[\"norm_err_\"+alg] = lpm.ComputeLoss(benchmark = benchmark,A = A_test, b = b_test, c = c_test, z = z_test, direct = False,\n",
    "                                                                                                    Theta = globals()[\"Theta_\"+alg], solved = True, solution = solution_test)\n",
    "    print(\"Loss\", np.average(globals()[\"loss_\"+alg]), \"Error\", np.average(globals()[\"error_\"+alg]), \"Normalized Error\", np.average(globals()[\"norm_err_\"+alg]))\n",
    "    mark = 0\n",
    "    for j in range(len(globals()[focus + \"_set\"])):\n",
    "        if globals()[focus] == globals()[focus + \"_set\"][j]:\n",
    "            mark = j\n",
    "    globals()[\"Loss_\" + alg][trial][mark] = np.average(globals()[\"loss_\" + alg])\n",
    "    globals()[\"Error_\" + alg][trial][mark] = np.average(globals()[\"error_\" + alg])\n",
    "    globals()[\"Norm_Err_\" + alg][trial][mark] = np.average(globals()[\"norm_err_\" + alg])\n",
    "    \n",
    "    \n",
    "    # Polynomial Kernelized Margin Learning\n",
    "    # Do not need true c\n",
    "    # Do not need solution x but basis\n",
    "    alg = 'PolyKer'\n",
    "    ker_z_train = lm.PolyKernel(z = z_train, benchmark_z = z_train, gamma=1.0, degree=2, coef0=1.0)\n",
    "    ker_z_test = lm.PolyKernel(z = z_test, benchmark_z = z_train, gamma=1.0, degree=2, coef0=1.0)\n",
    "    print(\"Method Poly-Kernelized SVM Margin Learning\")\n",
    "    print(\"Training samples\", N_train)\n",
    "    start = time.time()\n",
    "    globals()[\"Theta_\"+alg] = lm.KernelizedMarginLearning(A = A_train, b = b_train, z = ker_z_train, basic = basic_train, nonb = nonb_train,\n",
    "                                                          regular_const=1e-1)\n",
    "    globals()[\"time_\"+alg] = time.time() - start\n",
    "    print(\"Time Cost\", globals()[\"time_\"+alg])\n",
    "    globals()[\"loss_\"+alg], globals()[\"error_\"+alg], globals()[\"norm_err_\"+alg] = lpm.ComputeLoss(benchmark = benchmark,A = A_test, b = b_test, c = c_test, z = ker_z_test, direct = False,\n",
    "                                                                                                    Theta = globals()[\"Theta_\"+alg], solved = True, solution = solution_test)\n",
    "    print(\"Loss\", np.average(globals()[\"loss_\"+alg]), \"Error\", np.average(globals()[\"error_\"+alg]), \"Normalized Error\", np.average(globals()[\"norm_err_\"+alg]))\n",
    "    mark = 0\n",
    "    for j in range(len(globals()[focus + \"_set\"])):\n",
    "        if globals()[focus] == globals()[focus + \"_set\"][j]:\n",
    "            mark = j\n",
    "    globals()[\"Loss_\" + alg][trial][mark] = np.average(globals()[\"loss_\" + alg])\n",
    "    globals()[\"Error_\" + alg][trial][mark] = np.average(globals()[\"error_\" + alg])\n",
    "    globals()[\"Norm_Err_\" + alg][trial][mark] = np.average(globals()[\"norm_err_\" + alg])\n",
    "    \n",
    "    \n",
    "    # Rbf Kernelized Margin Learning\n",
    "    # Do not need true c\n",
    "    # Do not need solution x but basis\n",
    "    alg = 'ExpRbf'\n",
    "    ker_z_train = lm.ExpKernel(z = z_train, benchmark_z = z_train, gamma=1e0)\n",
    "    ker_z_test = lm.ExpKernel(z = z_test, benchmark_z = z_train, gamma=1e0)\n",
    "    print(\"Method Rbf Kernelized SVM Margin Learning\")\n",
    "    print(\"Training samples\", N_train)\n",
    "    start = time.time()\n",
    "    globals()[\"Theta_\"+alg] = lm.KernelizedMarginLearning(A = A_train, b = b_train, z = ker_z_train, basic = basic_train, nonb = nonb_train,\n",
    "                                                          regular_const=1e-2)\n",
    "    globals()[\"time_\"+alg] = time.time() - start\n",
    "    print(\"Time Cost\", globals()[\"time_\"+alg])\n",
    "    globals()[\"loss_\"+alg], globals()[\"error_\"+alg], globals()[\"norm_err_\"+alg] = lpm.ComputeLoss(benchmark = benchmark,A = A_test, b = b_test, c = c_test, z = ker_z_test, direct = False,\n",
    "                                                                                                    Theta = globals()[\"Theta_\"+alg], solved = True, solution = solution_test)\n",
    "    print(\"Loss\", np.average(globals()[\"loss_\"+alg]), \"Error\", np.average(globals()[\"error_\"+alg]), \"Normalized Error\", np.average(globals()[\"norm_err_\"+alg]))\n",
    "    mark = 0\n",
    "    for j in range(len(globals()[focus + \"_set\"])):\n",
    "        if globals()[focus] == globals()[focus + \"_set\"][j]:\n",
    "            mark = j\n",
    "    globals()[\"Loss_\" + alg][trial][mark] = np.average(globals()[\"loss_\" + alg])\n",
    "    globals()[\"Error_\" + alg][trial][mark] = np.average(globals()[\"error_\" + alg])\n",
    "    globals()[\"Norm_Err_\" + alg][trial][mark] = np.average(globals()[\"norm_err_\" + alg])\n",
    "    \n",
    "    "
   ]
  },
  {
   "cell_type": "code",
   "execution_count": 28,
   "id": "d1caaea7",
   "metadata": {},
   "outputs": [
    {
     "data": {
      "image/png": "[encoded data removed]",
      "text/plain": [
       "<Figure size 432x288 with 1 Axes>"
      ]
     },
     "metadata": {
      "needs_background": "light"
     },
     "output_type": "display_data"
    },
    {
     "data": {
      "image/png": "[encoded data removed]",
      "text/plain": [
       "<Figure size 432x288 with 1 Axes>"
      ]
     },
     "metadata": {
      "needs_background": "light"
     },
     "output_type": "display_data"
    },
    {
     "data": {
      "image/png": "[encoded data removed]",
      "text/plain": [
       "<Figure size 432x288 with 1 Axes>"
      ]
     },
     "metadata": {
      "needs_background": "light"
     },
     "output_type": "display_data"
    }
   ],
   "source": [
    "# degree 1\n",
    "i = 0\n",
    "data_name = [\"Loss\", \"Error\", \"Norm_Err\"]\n",
    "for data in data_name:\n",
    "    tmp = np.zeros((total_trial, len(methods)))\n",
    "    for j in range(len(methods)):\n",
    "        tmp[:, j] = globals()[data+\"_\"+methods[j]].T[i]\n",
    "    np.savetxt(os.path.join('Rebuttal1_Degree', f\"{data}_degree_{degree_set[i]}\"), tmp)\n",
    "    sns.boxplot(data = tmp, showfliers = False)\n",
    "    plt.show()"
   ]
  },
  {
   "cell_type": "code",
   "execution_count": 41,
   "id": "b31566f8",
   "metadata": {},
   "outputs": [
    {
     "data": {
      "image/png": "[encoded data removed]",
      "text/plain": [
       "<Figure size 432x288 with 1 Axes>"
      ]
     },
     "metadata": {
      "needs_background": "light"
     },
     "output_type": "display_data"
    },
    {
     "data": {
      "image/png": "[encoded data removed]",
      "text/plain": [
       "<Figure size 432x288 with 1 Axes>"
      ]
     },
     "metadata": {
      "needs_background": "light"
     },
     "output_type": "display_data"
    },
    {
     "data": {
      "image/png": "[encoded data removed]",
      "text/plain": [
       "<Figure size 432x288 with 1 Axes>"
      ]
     },
     "metadata": {
      "needs_background": "light"
     },
     "output_type": "display_data"
    }
   ],
   "source": [
    "# degree 2\n",
    "i = 1\n",
    "data_name = [\"Loss\", \"Error\", \"Norm_Err\"]\n",
    "for data in data_name:\n",
    "    tmp = np.zeros((total_trial, len(methods)))\n",
    "    for j in range(len(methods)):\n",
    "        tmp[:, j] = globals()[data+\"_\"+methods[j]].T[i]\n",
    "    np.savetxt(os.path.join('Rebuttal1_Degree', f\"{data}_degree_{degree_set[i]}\"), tmp)\n",
    "    sns.boxplot(data = tmp, showfliers = False)\n",
    "    plt.show()"
   ]
  },
  {
   "cell_type": "code",
   "execution_count": 68,
   "id": "f0776ae6",
   "metadata": {},
   "outputs": [
    {
     "data": {
      "image/png": "[encoded data removed]",
      "text/plain": [
       "<Figure size 432x288 with 1 Axes>"
      ]
     },
     "metadata": {
      "needs_background": "light"
     },
     "output_type": "display_data"
    },
    {
     "data": {
      "image/png": "[encoded data removed]",
      "text/plain": [
       "<Figure size 432x288 with 1 Axes>"
      ]
     },
     "metadata": {
      "needs_background": "light"
     },
     "output_type": "display_data"
    },
    {
     "data": {
      "image/png": "[encoded data removed]",
      "text/plain": [
       "<Figure size 432x288 with 1 Axes>"
      ]
     },
     "metadata": {
      "needs_background": "light"
     },
     "output_type": "display_data"
    }
   ],
   "source": [
    "# degree 4\n",
    "i = 2\n",
    "data_name = [\"Loss\", \"Error\", \"Norm_Err\"]\n",
    "for data in data_name:\n",
    "    tmp = np.zeros((total_trial, len(methods)))\n",
    "    for j in range(len(methods)):\n",
    "        tmp[:, j] = globals()[data+\"_\"+methods[j]].T[i]\n",
    "    np.savetxt(os.path.join('Rebuttal1_Degree', f\"{data}_degree_{degree_set[i]}\"), tmp)\n",
    "    sns.boxplot(data = tmp, showfliers = False)\n",
    "    plt.show()"
   ]
  },
  {
   "cell_type": "code",
   "execution_count": 101,
   "id": "96195440",
   "metadata": {},
   "outputs": [
    {
     "data": {
      "image/png": "[encoded data removed]",
      "text/plain": [
       "<Figure size 432x288 with 1 Axes>"
      ]
     },
     "metadata": {
      "needs_background": "light"
     },
     "output_type": "display_data"
    },
    {
     "data": {
      "image/png": "[encoded data removed]",
      "text/plain": [
       "<Figure size 432x288 with 1 Axes>"
      ]
     },
     "metadata": {
      "needs_background": "light"
     },
     "output_type": "display_data"
    },
    {
     "data": {
      "image/png": "[encoded data removed]",
      "text/plain": [
       "<Figure size 432x288 with 1 Axes>"
      ]
     },
     "metadata": {
      "needs_background": "light"
     },
     "output_type": "display_data"
    }
   ],
   "source": [
    "# degree 6\n",
    "i = 3\n",
    "data_name = [\"Loss\", \"Error\", \"Norm_Err\"]\n",
    "for data in data_name:\n",
    "    tmp = np.zeros((total_trial, len(methods)))\n",
    "    for j in range(len(methods)):\n",
    "        tmp[:, j] = globals()[data+\"_\"+methods[j]].T[i]\n",
    "    np.savetxt(os.path.join('Rebuttal1_Degree', f\"{data}_degree_{degree_set[i]}\"), tmp)\n",
    "    sns.boxplot(data = tmp, showfliers = False)\n",
    "    plt.show()"
   ]
  },
  {
   "cell_type": "code",
   "execution_count": 192,
   "id": "e33533ee",
   "metadata": {},
   "outputs": [],
   "source": [
    "focus = \"degree\"\n",
    "globals()[focus + \"_set\"] = [1, 2, 4, 6]\n",
    "total_trial = 10\n",
    "methods = ['RF', 'OLS', 'Ridge', 'PolyRidge', 'RbfRidge', 'SPO+', 'ML', 'PolyKer', 'ExpRbf']\n",
    "for i in range(len(methods)):\n",
    "    globals()[f\"Loss_{methods[i]}\"] = np.zeros((total_trial, len(globals()[focus + \"_set\"])))\n",
    "    globals()[f\"Error_{methods[i]}\"] = np.zeros((total_trial, len(globals()[focus + \"_set\"])))\n",
    "    globals()[f\"Norm_Err_{methods[i]}\"] = np.zeros((total_trial, len(globals()[focus + \"_set\"])))"
   ]
  },
  {
   "cell_type": "code",
   "execution_count": 268,
   "id": "31e452e6",
   "metadata": {},
   "outputs": [
    {
     "name": "stdout",
     "output_type": "stream",
     "text": [
      "*********************************************************\n",
      "Trial 1\n",
      "Time cost 3.262002468109131\n",
      "Method Random Forest\n",
      "Training samples 200\n",
      "Time Cost 0.18399786949157715\n",
      "Loss 16.835114626149917 Error 0.5498610126491643 Normalized Error 0.2975494518340569\n",
      "Method Ordinary Least Squares\n",
      "Training samples 200\n",
      "Time Cost 0.9802353382110596\n",
      "Loss 45.63586263392026 Error 2.319414484427286 Normalized Error 0.5668512175294591\n",
      "Method Ridge Regression\n",
      "Training samples 200\n",
      "Time Cost 0.959789514541626\n",
      "Loss 45.63586263392026 Error 2.318745215245238 Normalized Error 0.5668454959105639\n",
      "Method PolyKer Ridge Regression\n",
      "Training samples 200\n",
      "Time Cost 3.367999315261841\n",
      "Loss 120.60853196658705 Error 1.250573265424006 Normalized Error 0.5355829237301649\n",
      "Method RbfKer Ridge Regression\n",
      "Training samples 200\n",
      "Time Cost 3.2589972019195557\n",
      "Loss 3.697722587267247 Error 0.5240939875421 Normalized Error 0.17849804658829943\n",
      "Method SPO+\n",
      "Training samples 200\n"
     ]
    },
    {
     "data": {
      "image/png": "[encoded data removed]",
      "text/plain": [
       "<Figure size 432x288 with 1 Axes>"
      ]
     },
     "metadata": {
      "needs_background": "light"
     },
     "output_type": "display_data"
    },
    {
     "name": "stdout",
     "output_type": "stream",
     "text": [
      "Time Cost 37.27885127067566\n",
      "Loss 8.746918057086548 Error 0.9991094001488184 Normalized Error 1.1731563825275904\n",
      "Method SVM Margin Learning\n",
      "Training samples 200\n",
      "Time Cost 0.8100004196166992\n",
      "Loss 3.3246485536781627 Error 0.9997914958849103 Normalized Error 1.1542142150899835\n",
      "Method Poly-Kernelized SVM Margin Learning\n",
      "Training samples 200\n",
      "Time Cost 12.111994743347168\n",
      "Loss 3.6196348687509117 Error 0.9995325881620699 Normalized Error 1.1886868397890984\n",
      "Method Rbf Kernelized SVM Margin Learning\n",
      "Training samples 200\n",
      "Time Cost 11.521740674972534\n",
      "Loss 2.8449442778289833 Error 0.9998542331029703 Normalized Error 1.1705333354231513\n",
      "*********************************************************\n",
      "Trial 2\n",
      "Time cost 3.291002035140991\n",
      "Method Random Forest\n",
      "Training samples 200\n",
      "Time Cost 0.18200206756591797\n",
      "Loss 39.003490638163726 Error 0.43765295052764797 Normalized Error 0.29067624355815247\n",
      "Method Ordinary Least Squares\n",
      "Training samples 200\n",
      "Time Cost 0.9450039863586426\n",
      "Loss 34.0650831587445 Error 2.270409905931584 Normalized Error 0.5230437383714854\n",
      "Method Ridge Regression\n",
      "Training samples 200\n",
      "Time Cost 0.9524457454681396\n",
      "Loss 34.0650831587445 Error 2.269839918063676 Normalized Error 0.5230580421634442\n",
      "Method PolyKer Ridge Regression\n",
      "Training samples 200\n",
      "Time Cost 3.8340003490448\n",
      "Loss 102.82896849762925 Error 1.372102358721529 Normalized Error 0.5398291997204685\n",
      "Method RbfKer Ridge Regression\n",
      "Training samples 200\n",
      "Time Cost 3.2300045490264893\n",
      "Loss 14.863478282611707 Error 0.5049173776361489 Normalized Error 0.17899029954992343\n",
      "Method SPO+\n",
      "Training samples 200\n"
     ]
    },
    {
     "data": {
      "image/png": "[encoded data removed]",
      "text/plain": [
       "<Figure size 432x288 with 1 Axes>"
      ]
     },
     "metadata": {
      "needs_background": "light"
     },
     "output_type": "display_data"
    },
    {
     "name": "stdout",
     "output_type": "stream",
     "text": [
      "Time Cost 37.62052035331726\n",
      "Loss 21.57432637421245 Error 0.9990169154690514 Normalized Error 1.1880578134417197\n",
      "Method SVM Margin Learning\n",
      "Training samples 200\n",
      "A_B is singular.\n",
      "A_B is singular.\n",
      "A_B is singular.\n",
      "A_B is singular.\n",
      "Time Cost 0.7979981899261475\n",
      "Loss 14.019264960767785 Error 0.9997130764175379 Normalized Error 1.1437073931552477\n",
      "Method Poly-Kernelized SVM Margin Learning\n",
      "Training samples 200\n",
      "A_B is singular.\n",
      "A_B is singular.\n",
      "A_B is singular.\n",
      "A_B is singular.\n",
      "Time Cost 11.490755558013916\n",
      "Loss 7.6564051745661414 Error 0.9989626010961691 Normalized Error 1.1769348654239284\n",
      "Method Rbf Kernelized SVM Margin Learning\n",
      "Training samples 200\n",
      "A_B is singular.\n",
      "A_B is singular.\n",
      "A_B is singular.\n",
      "A_B is singular.\n",
      "Time Cost 10.83365249633789\n",
      "Loss 7.7953895828363855 Error 0.9998156026549465 Normalized Error 1.1678190387374652\n",
      "*********************************************************\n",
      "Trial 3\n",
      "Time cost 3.2669992446899414\n",
      "Method Random Forest\n",
      "Training samples 200\n",
      "Time Cost 0.18200445175170898\n",
      "Loss 17.106911740628195 Error 0.4089696902915817 Normalized Error 0.2788931299471609\n",
      "Method Ordinary Least Squares\n",
      "Training samples 200\n",
      "Time Cost 0.9337835311889648\n",
      "Loss 23.253899135914317 Error 2.107057005342204 Normalized Error 0.5436148424035051\n",
      "Method Ridge Regression\n",
      "Training samples 200\n",
      "Time Cost 0.9575040340423584\n",
      "Loss 23.253899135914317 Error 2.1064720019412224 Normalized Error 0.5436086753824068\n",
      "Method PolyKer Ridge Regression\n",
      "Training samples 200\n",
      "Time Cost 3.7916975021362305\n",
      "Loss 96.23564467582494 Error 1.3802218009207612 Normalized Error 0.47641924425324006\n",
      "Method RbfKer Ridge Regression\n",
      "Training samples 200\n",
      "Time Cost 3.263996124267578\n",
      "Loss 4.01931873563255 Error 0.50339552507261 Normalized Error 0.160752617189478\n",
      "Method SPO+\n",
      "Training samples 200\n"
     ]
    },
    {
     "data": {
      "image/png": "[encoded data removed]",
      "text/plain": [
       "<Figure size 432x288 with 1 Axes>"
      ]
     },
     "metadata": {
      "needs_background": "light"
     },
     "output_type": "display_data"
    },
    {
     "name": "stdout",
     "output_type": "stream",
     "text": [
      "Time Cost 37.68632698059082\n",
      "Loss 10.711858272223713 Error 0.9991408514282607 Normalized Error 1.1711953028864768\n",
      "Method SVM Margin Learning\n",
      "Training samples 200\n",
      "Time Cost 0.8210020065307617\n",
      "Loss 7.501698695183982 Error 0.9997408551626715 Normalized Error 1.1381649763368782\n",
      "Method Poly-Kernelized SVM Margin Learning\n",
      "Training samples 200\n",
      "Time Cost 12.306004762649536\n",
      "Loss 6.467453538427338 Error 0.9993018093940634 Normalized Error 1.1720667756628302\n",
      "Method Rbf Kernelized SVM Margin Learning\n",
      "Training samples 200\n",
      "Time Cost 11.610000133514404\n",
      "Loss 3.183093738465175 Error 0.9998163380927564 Normalized Error 1.1498342703674425\n",
      "*********************************************************\n",
      "Trial 4\n",
      "Time cost 3.2700023651123047\n",
      "Method Random Forest\n",
      "Training samples 200\n",
      "Time Cost 0.1880016326904297\n",
      "Loss 19.360041728688127 Error 0.4576931000432059 Normalized Error 0.29762301732382335\n",
      "Method Ordinary Least Squares\n",
      "Training samples 200\n",
      "Time Cost 0.9846014976501465\n",
      "Loss 47.31319863393863 Error 2.5158186878229483 Normalized Error 0.5478598177899413\n",
      "Method Ridge Regression\n",
      "Training samples 200\n",
      "Time Cost 0.920912504196167\n",
      "Loss 47.31319863393863 Error 2.514980103366653 Normalized Error 0.5478363190096067\n",
      "Method PolyKer Ridge Regression\n",
      "Training samples 200\n",
      "Time Cost 3.3470003604888916\n",
      "Loss 75.46329608488323 Error 1.6397399537151365 Normalized Error 0.43839968034375476\n",
      "Method RbfKer Ridge Regression\n",
      "Training samples 200\n",
      "Time Cost 3.2350034713745117\n",
      "Loss 5.196264655658279 Error 0.5371872441593858 Normalized Error 0.17133206384176602\n",
      "Method SPO+\n",
      "Training samples 200\n"
     ]
    },
    {
     "data": {
      "image/png": "[encoded data removed]",
      "text/plain": [
       "<Figure size 432x288 with 1 Axes>"
      ]
     },
     "metadata": {
      "needs_background": "light"
     },
     "output_type": "display_data"
    },
    {
     "name": "stdout",
     "output_type": "stream",
     "text": [
      "Time Cost 37.21158576011658\n",
      "Loss 11.936413915854521 Error 0.9990897349183272 Normalized Error 1.1790361715325288\n",
      "Method SVM Margin Learning\n",
      "Training samples 200\n",
      "Time Cost 0.8049981594085693\n",
      "Loss 9.73607130482887 Error 0.9998114526754098 Normalized Error 1.1714503050988705\n",
      "Method Poly-Kernelized SVM Margin Learning\n",
      "Training samples 200\n",
      "Time Cost 12.034725666046143\n",
      "Loss 11.452592229768085 Error 0.9994863481568277 Normalized Error 1.2124345415828275\n",
      "Method Rbf Kernelized SVM Margin Learning\n",
      "Training samples 200\n",
      "Time Cost 11.704768180847168\n",
      "Loss 4.595977667427645 Error 0.9998445456896711 Normalized Error 1.1842811852266195\n",
      "*********************************************************\n",
      "Trial 5\n",
      "Time cost 3.2705512046813965\n",
      "Method Random Forest\n",
      "Training samples 200\n",
      "Time Cost 0.18799924850463867\n",
      "Loss 19.370456035804494 Error 0.4614097480311318 Normalized Error 0.29292659060759685\n",
      "Method Ordinary Least Squares\n",
      "Training samples 200\n",
      "Time Cost 0.9816138744354248\n",
      "Loss 27.077223486626956 Error 2.535523145435549 Normalized Error 0.5448184973172765\n",
      "Method Ridge Regression\n",
      "Training samples 200\n",
      "Time Cost 0.9188706874847412\n",
      "Loss 27.077223486626956 Error 2.534746398882086 Normalized Error 0.544808894253337\n",
      "Method PolyKer Ridge Regression\n",
      "Training samples 200\n",
      "Time Cost 3.84903883934021\n",
      "Loss 84.83333623629719 Error 1.5587594414495711 Normalized Error 0.5280648627154328\n",
      "Method RbfKer Ridge Regression\n",
      "Training samples 200\n",
      "Time Cost 3.2450039386749268\n",
      "Loss 7.861826676310968 Error 0.5111209464034426 Normalized Error 0.17110340909473354\n",
      "Method SPO+\n",
      "Training samples 200\n"
     ]
    },
    {
     "data": {
      "image/png": "[encoded data removed]",
      "text/plain": [
       "<Figure size 432x288 with 1 Axes>"
      ]
     },
     "metadata": {
      "needs_background": "light"
     },
     "output_type": "display_data"
    },
    {
     "name": "stdout",
     "output_type": "stream",
     "text": [
      "Time Cost 37.29031491279602\n",
      "Loss 13.851736765070516 Error 0.9990292293731113 Normalized Error 1.1590678560322303\n",
      "Method SVM Margin Learning\n",
      "Training samples 200\n",
      "A_B is singular.\n",
      "A_B is singular.\n",
      "A_B is singular.\n",
      "Time Cost 0.8250002861022949\n",
      "Loss 6.73531204395589 Error 0.9997270458300231 Normalized Error 1.1087440604776793\n",
      "Method Poly-Kernelized SVM Margin Learning\n",
      "Training samples 200\n",
      "A_B is singular.\n",
      "A_B is singular.\n",
      "A_B is singular.\n",
      "Time Cost 12.323009967803955\n",
      "Loss 8.86736185642247 Error 0.9990661725845678 Normalized Error 1.1229436665905788\n",
      "Method Rbf Kernelized SVM Margin Learning\n",
      "Training samples 200\n",
      "A_B is singular.\n",
      "A_B is singular.\n",
      "A_B is singular.\n",
      "Time Cost 11.87141728401184\n",
      "Loss 5.326305084433144 Error 0.9998027832279037 Normalized Error 1.1166515670640624\n",
      "*********************************************************\n",
      "Trial 6\n",
      "Time cost 3.3510005474090576\n",
      "Method Random Forest\n",
      "Training samples 200\n",
      "Time Cost 0.18699932098388672\n",
      "Loss 29.588589330426725 Error 0.4127571699442077 Normalized Error 0.2896840194970347\n",
      "Method Ordinary Least Squares\n",
      "Training samples 200\n",
      "Time Cost 0.9330041408538818\n",
      "Loss 32.294916940591 Error 2.073056948697112 Normalized Error 0.5190578878673532\n",
      "Method Ridge Regression\n",
      "Training samples 200\n",
      "Time Cost 0.9592247009277344\n",
      "Loss 32.294916940591 Error 2.0723740238577317 Normalized Error 0.5190414470140715\n",
      "Method PolyKer Ridge Regression\n",
      "Training samples 200\n",
      "Time Cost 3.2949962615966797\n",
      "Loss 70.39835409165629 Error 1.0345957997196078 Normalized Error 0.4055202653377524\n",
      "Method RbfKer Ridge Regression\n",
      "Training samples 200\n",
      "Time Cost 3.274724245071411\n",
      "Loss 10.024515905419689 Error 0.5445194151298087 Normalized Error 0.1726928961163172\n",
      "Method SPO+\n",
      "Training samples 200\n"
     ]
    },
    {
     "data": {
      "image/png": "[encoded data removed]",
      "text/plain": [
       "<Figure size 432x288 with 1 Axes>"
      ]
     },
     "metadata": {
      "needs_background": "light"
     },
     "output_type": "display_data"
    },
    {
     "name": "stdout",
     "output_type": "stream",
     "text": [
      "Time Cost 37.33538556098938\n",
      "Loss 17.984456188156596 Error 0.9986810521164359 Normalized Error 1.1523890322215598\n",
      "Method SVM Margin Learning\n",
      "Training samples 200\n",
      "A_B is singular.\n",
      "Time Cost 0.834003210067749\n",
      "Loss 12.2233804904459 Error 0.9996843444491176 Normalized Error 1.1115019964132\n",
      "Method Poly-Kernelized SVM Margin Learning\n",
      "Training samples 200\n",
      "A_B is singular.\n",
      "Time Cost 12.654709577560425\n",
      "Loss 10.552147759666607 Error 0.9990109697245257 Normalized Error 1.137260818574995\n",
      "Method Rbf Kernelized SVM Margin Learning\n",
      "Training samples 200\n",
      "A_B is singular.\n",
      "Time Cost 12.271223068237305\n",
      "Loss 5.937269218045406 Error 0.9997919966362693 Normalized Error 1.1272782104998018\n",
      "*********************************************************\n",
      "Trial 7\n",
      "Time cost 3.2739999294281006\n",
      "Method Random Forest\n",
      "Training samples 200\n",
      "Time Cost 0.17900443077087402\n",
      "Loss 23.31741501338785 Error 0.4300911855551907 Normalized Error 0.29053903169816975\n",
      "Method Ordinary Least Squares\n",
      "Training samples 200\n",
      "Time Cost 0.978705644607544\n",
      "Loss 33.08274133323348 Error 3.1360810572804882 Normalized Error 0.6238387644855234\n",
      "Method Ridge Regression\n",
      "Training samples 200\n",
      "Time Cost 0.9196999073028564\n",
      "Loss 33.08274133323348 Error 3.135305773249444 Normalized Error 0.6238441846241449\n",
      "Method PolyKer Ridge Regression\n",
      "Training samples 200\n",
      "Time Cost 3.837996244430542\n",
      "Loss 82.87306685919118 Error 1.523348101512616 Normalized Error 0.6363106054733852\n",
      "Method RbfKer Ridge Regression\n",
      "Training samples 200\n",
      "Time Cost 3.2286763191223145\n",
      "Loss 5.594857058372664 Error 0.5525490159622257 Normalized Error 0.1873265021908581\n",
      "Method SPO+\n",
      "Training samples 200\n"
     ]
    },
    {
     "data": {
      "image/png": "[encoded data removed]",
      "text/plain": [
       "<Figure size 432x288 with 1 Axes>"
      ]
     },
     "metadata": {
      "needs_background": "light"
     },
     "output_type": "display_data"
    },
    {
     "name": "stdout",
     "output_type": "stream",
     "text": [
      "Time Cost 37.407124042510986\n",
      "Loss 12.778094194825364 Error 0.9990129323574698 Normalized Error 1.172047672017644\n",
      "Method SVM Margin Learning\n",
      "Training samples 200\n",
      "Time Cost 0.8060009479522705\n",
      "Loss 5.505857040264636 Error 0.999781689870315 Normalized Error 1.1390687366059455\n",
      "Method Poly-Kernelized SVM Margin Learning\n",
      "Training samples 200\n",
      "Time Cost 11.997000217437744\n",
      "Loss 6.657072234613913 Error 0.9993620347419199 Normalized Error 1.1608962373103475\n",
      "Method Rbf Kernelized SVM Margin Learning\n",
      "Training samples 200\n",
      "Time Cost 11.815676927566528\n",
      "Loss 3.6463944954202625 Error 0.9998177703040888 Normalized Error 1.1452600348685582\n",
      "*********************************************************\n",
      "Trial 8\n",
      "Time cost 3.429002285003662\n",
      "Method Random Forest\n",
      "Training samples 200\n",
      "Time Cost 0.18700170516967773\n",
      "Loss 62.908002865106305 Error 0.5531299267966474 Normalized Error 0.30241194308501107\n",
      "Method Ordinary Least Squares\n",
      "Training samples 200\n",
      "Time Cost 0.9890017509460449\n",
      "Loss 44.95596546376335 Error 3.0819570049844764 Normalized Error 0.5765473490977849\n",
      "Method Ridge Regression\n",
      "Training samples 200\n",
      "Time Cost 0.9321212768554688\n",
      "Loss 44.95596546376335 Error 3.0811940579065586 Normalized Error 0.5765590358128604\n",
      "Method PolyKer Ridge Regression\n",
      "Training samples 200\n",
      "Time Cost 3.920997381210327\n",
      "Loss 87.95989437598931 Error 1.7253436677817444 Normalized Error 0.5647537589516651\n",
      "Method RbfKer Ridge Regression\n",
      "Training samples 200\n",
      "Time Cost 3.2690000534057617\n",
      "Loss 6.574487532516412 Error 0.5077217396123422 Normalized Error 0.18134426629001948\n",
      "Method SPO+\n",
      "Training samples 200\n"
     ]
    },
    {
     "data": {
      "image/png": "[encoded data removed]",
      "text/plain": [
       "<Figure size 432x288 with 1 Axes>"
      ]
     },
     "metadata": {
      "needs_background": "light"
     },
     "output_type": "display_data"
    },
    {
     "name": "stdout",
     "output_type": "stream",
     "text": [
      "Time Cost 37.60673427581787\n",
      "Loss 10.72252542250448 Error 0.998974425757093 Normalized Error 1.169660739785104\n",
      "Method SVM Margin Learning\n",
      "Training samples 200\n",
      "Time Cost 0.8210036754608154\n",
      "Loss 7.05403735226034 Error 0.9997474421106012 Normalized Error 1.1446102326389824\n",
      "Method Poly-Kernelized SVM Margin Learning\n",
      "Training samples 200\n",
      "Time Cost 12.181744813919067\n",
      "Loss 8.824321010635865 Error 0.9992737766433016 Normalized Error 1.15788727879289\n",
      "Method Rbf Kernelized SVM Margin Learning\n",
      "Training samples 200\n",
      "Time Cost 11.511003494262695\n",
      "Loss 2.830175538735656 Error 0.9998306105179099 Normalized Error 1.1460847343522986\n",
      "*********************************************************\n",
      "Trial 9\n",
      "Time cost 3.3299994468688965\n",
      "Method Random Forest\n",
      "Training samples 200\n",
      "Time Cost 0.184004545211792\n",
      "Loss 24.476644733385044 Error 0.42224393042123903 Normalized Error 0.2731680899707363\n",
      "Method Ordinary Least Squares\n",
      "Training samples 200\n",
      "Time Cost 0.9760046005249023\n",
      "Loss 26.595599074240077 Error 2.480565253729331 Normalized Error 0.5468311406786572\n",
      "Method Ridge Regression\n",
      "Training samples 200\n",
      "Time Cost 0.9280002117156982\n",
      "Loss 26.595599074240077 Error 2.4798725940220727 Normalized Error 0.5468230374588866\n",
      "Method PolyKer Ridge Regression\n",
      "Training samples 200\n",
      "Time Cost 3.859995126724243\n",
      "Loss 85.72997847692886 Error 1.3579668624998298 Normalized Error 0.5105448103628\n",
      "Method RbfKer Ridge Regression\n",
      "Training samples 200\n",
      "Time Cost 3.2820000648498535\n",
      "Loss 3.7947789608456053 Error 0.5115291507943948 Normalized Error 0.1660089518052767\n",
      "Method SPO+\n",
      "Training samples 200\n"
     ]
    },
    {
     "data": {
      "image/png": "[encoded data removed]",
      "text/plain": [
       "<Figure size 432x288 with 1 Axes>"
      ]
     },
     "metadata": {
      "needs_background": "light"
     },
     "output_type": "display_data"
    },
    {
     "name": "stdout",
     "output_type": "stream",
     "text": [
      "Time Cost 37.55709409713745\n",
      "Loss 8.695885965545468 Error 0.9989883763815224 Normalized Error 1.1820202141438259\n",
      "Method SVM Margin Learning\n",
      "Training samples 200\n",
      "Time Cost 0.8069984912872314\n",
      "Loss 5.657382619975527 Error 0.9997793975722279 Normalized Error 1.1518777755325553\n",
      "Method Poly-Kernelized SVM Margin Learning\n",
      "Training samples 200\n",
      "Time Cost 11.937146186828613\n",
      "Loss 14.022333488355388 Error 0.999375760652838 Normalized Error 1.1916067792988982\n",
      "Method Rbf Kernelized SVM Margin Learning\n",
      "Training samples 200\n",
      "Time Cost 11.244996309280396\n",
      "Loss 2.2103445880230175 Error 0.9998556405643709 Normalized Error 1.1724204774887008\n",
      "*********************************************************\n",
      "Trial 10\n",
      "Time cost 3.323000431060791\n",
      "Method Random Forest\n",
      "Training samples 200\n",
      "Time Cost 0.18700027465820312\n",
      "Loss 31.441139804784996 Error 0.48801194810310267 Normalized Error 0.30037216377162507\n",
      "Method Ordinary Least Squares\n",
      "Training samples 200\n",
      "Time Cost 0.9754021167755127\n",
      "Loss 26.94143342725248 Error 2.1560356087200345 Normalized Error 0.5220849260843042\n",
      "Method Ridge Regression\n",
      "Training samples 200\n",
      "Time Cost 0.9300997257232666\n",
      "Loss 26.94143342725248 Error 2.1554497659435294 Normalized Error 0.5220891660762704\n",
      "Method PolyKer Ridge Regression\n",
      "Training samples 200\n",
      "Time Cost 3.9059996604919434\n",
      "Loss 104.98222733773774 Error 1.1922828169374413 Normalized Error 0.44007730978348497\n",
      "Method RbfKer Ridge Regression\n",
      "Training samples 200\n",
      "Time Cost 3.2600042819976807\n",
      "Loss 9.174460773843716 Error 0.5432289556808687 Normalized Error 0.17524462121970394\n",
      "Method SPO+\n",
      "Training samples 200\n"
     ]
    },
    {
     "data": {
      "image/png": "[encoded data removed]",
      "text/plain": [
       "<Figure size 432x288 with 1 Axes>"
      ]
     },
     "metadata": {
      "needs_background": "light"
     },
     "output_type": "display_data"
    },
    {
     "name": "stdout",
     "output_type": "stream",
     "text": [
      "Time Cost 38.309072732925415\n",
      "Loss 17.317843387112298 Error 0.9988568063978953 Normalized Error 1.1492798498051728\n",
      "Method SVM Margin Learning\n",
      "Training samples 200\n",
      "Time Cost 0.8130011558532715\n",
      "Loss 4.424560568740523 Error 0.9997134696364945 Normalized Error 1.1317913574590421\n",
      "Method Poly-Kernelized SVM Margin Learning\n",
      "Training samples 200\n",
      "Time Cost 11.946004390716553\n",
      "Loss 10.11033953807722 Error 0.9992676582247254 Normalized Error 1.1402617768814145\n",
      "Method Rbf Kernelized SVM Margin Learning\n",
      "Training samples 200\n",
      "Time Cost 11.333000183105469\n",
      "Loss 2.149967442980214 Error 0.9998073508486544 Normalized Error 1.1282039845689464\n"
     ]
    }
   ],
   "source": [
    "for trial in range(total_trial):\n",
    "    # Generate Shortest Path Samples\n",
    "    benchmark = 2\n",
    "    dim_edge_vert = 4\n",
    "    dim_edge_hori = 4\n",
    "    dim_features = 6\n",
    "    dim_cost = dim_edge_hori * (dim_edge_vert + 1) + (dim_edge_hori + 1) * dim_edge_vert\n",
    "    Coeff_Mat = np.random.binomial(n=1, p=0.5, size = (dim_cost, dim_features))\n",
    "    print(\"*********************************************************\")\n",
    "    print(\"Trial\", trial + 1)\n",
    "    \n",
    "    N_train = 200\n",
    "    # N_valid = 200\n",
    "    N_test = 1000\n",
    "    degree = 6\n",
    "    additive_noise = 0.0\n",
    "    scale_noise_uni = 0.0\n",
    "    scale_noise_div = 0.0\n",
    "    attack_threshold = 0.5\n",
    "    attack_power = 3.0\n",
    "    z_train, c_train, A_train, b_train = dg.GenerateShortestPath(N_samples = N_train, dim_features = dim_features, Coeff_Mat=Coeff_Mat,\n",
    "                                                                dim_edge_vert = dim_edge_vert, dim_edge_hori = dim_edge_hori,\n",
    "                                                                degree=degree, additive_noise=additive_noise, scale_noise_uni=scale_noise_uni, scale_noise_div=scale_noise_div, attack_threshold=attack_threshold, attack_power=attack_power)\n",
    "    # z_valid, c_valid, A_valid, b_valid = dg.GenerateShortestPath(N_samples = N_valid, dim_features = dim_features, Coeff_Mat=Coeff_Mat,\n",
    "    #                                                             dim_edge_vert = dim_edge_vert, dim_edge_hori = dim_edge_hori,\n",
    "    #                                                             degree=degree, additive_noise=additive_noise, scale_noise_uni=scale_noise_uni, scale_noise_div=scale_noise_div, attack_threshold=attack_threshold, attack_power=attack_power)\n",
    "    z_test, c_test, A_test, b_test = dg.GenerateShortestPath(N_samples = N_test, dim_features = dim_features, Coeff_Mat=Coeff_Mat,\n",
    "                                                            dim_edge_vert = dim_edge_vert, dim_edge_hori = dim_edge_hori,\n",
    "                                                            degree=degree, additive_noise=additive_noise, scale_noise_uni=scale_noise_uni, scale_noise_div=scale_noise_div, attack_threshold=attack_threshold, attack_power=attack_power)\n",
    "    # Compute Optimal Solutions\n",
    "    start = time.time()\n",
    "    basic_train, nonb_train, solution_train = lpm.ComputeBasis(c=c_train, A=A_train, b=b_train)\n",
    "    #basic_valid, nonb_valid, solution_valid = lpm.ComputeBasis(c=c_valid, A=A_valid, b=b_valid)\n",
    "    basic_test, nonb_test, solution_test = lpm.ComputeBasis(c=c_test, A=A_test, b=b_test)\n",
    "    print(\"Time cost\", time.time() - start)\n",
    "    \n",
    "    \n",
    "    # Random Forest\n",
    "    # No Theta, directly predict c\n",
    "    alg = 'RF'\n",
    "    print(\"Method Random Forest\")\n",
    "    print(\"Training samples\", N_train)\n",
    "    start = time.time()\n",
    "    regr = RandomForestRegressor(random_state=0)\n",
    "    regr.fit(z_train, c_train)\n",
    "    hat_c = regr.predict(z_test)\n",
    "    globals()[\"time_\"+alg] = time.time() - start\n",
    "    print(\"Time Cost\", globals()[\"time_\"+alg])\n",
    "    globals()[\"loss_\"+alg], globals()[\"error_\"+alg], globals()[\"norm_err_\"+alg] = lpm.ComputeLoss(benchmark = benchmark, A=A_test, b=b_test, c=c_test, z=z_test,\n",
    "                                                                                             direct=True, hat_c=hat_c, solved = True, solution=solution_test)\n",
    "    print(\"Loss\", np.average(globals()[\"loss_\"+alg]), \"Error\", np.average(globals()[\"error_\"+alg]), \"Normalized Error\", np.average(globals()[\"norm_err_\"+alg]))\n",
    "    mark = 0\n",
    "    for j in range(len(globals()[focus + \"_set\"])):\n",
    "        if globals()[focus] == globals()[focus + \"_set\"][j]:\n",
    "            mark = j\n",
    "    globals()[\"Loss_\" + alg][trial][mark] = np.average(globals()[\"loss_\" + alg])\n",
    "    globals()[\"Error_\" + alg][trial][mark] = np.average(globals()[\"error_\" + alg])\n",
    "    globals()[\"Norm_Err_\" + alg][trial][mark] = np.average(globals()[\"norm_err_\" + alg])\n",
    "    \n",
    "    \n",
    "    # Ordinary Least Squares\n",
    "    alg = 'OLS'\n",
    "    print(\"Method Ordinary Least Squares\")\n",
    "    print(\"Training samples\", N_train)\n",
    "    start = time.time()\n",
    "    globals()[\"Theta_\"+alg] = lm.OrdinaryLeastSquares(A = A_train, b = b_train, c = c_train, z = z_train)\n",
    "    globals()[\"time_\"+alg] = time.time() - start\n",
    "    print(\"Time Cost\", globals()[\"time_\"+alg])\n",
    "    globals()[\"loss_\"+alg], globals()[\"error_\"+alg], globals()[\"norm_err_\"+alg] = lpm.ComputeLoss(benchmark = benchmark,A = A_test, b = b_test, c = c_test, z = z_test, direct = False,\n",
    "                                                                                                    Theta = globals()[\"Theta_\"+alg], solved = True, solution = solution_test)\n",
    "    print(\"Loss\", np.average(globals()[\"loss_\"+alg]), \"Error\", np.average(globals()[\"error_\"+alg]), \"Normalized Error\", np.average(globals()[\"norm_err_\"+alg]))\n",
    "    mark = 0\n",
    "    for j in range(len(globals()[focus + \"_set\"])):\n",
    "        if globals()[focus] == globals()[focus + \"_set\"][j]:\n",
    "            mark = j\n",
    "    globals()[\"Loss_\" + alg][trial][mark] = np.average(globals()[\"loss_\" + alg])\n",
    "    globals()[\"Error_\" + alg][trial][mark] = np.average(globals()[\"error_\" + alg])\n",
    "    globals()[\"Norm_Err_\" + alg][trial][mark] = np.average(globals()[\"norm_err_\" + alg])\n",
    "    \n",
    "    \n",
    "    # Ridge Regression\n",
    "    alg = 'Ridge'\n",
    "    print(\"Method Ridge Regression\")\n",
    "    print(\"Training samples\", N_train)\n",
    "    start = time.time()\n",
    "    globals()[\"Theta_\"+alg] = lm.RidgeRegression(A = A_train, b = b_train, c = c_train,  z = z_train, regular_const = 1e-1)\n",
    "    globals()[\"time_\"+alg] = time.time() - start\n",
    "    print(\"Time Cost\", globals()[\"time_\"+alg])\n",
    "    globals()[\"loss_\"+alg], globals()[\"error_\"+alg], globals()[\"norm_err_\"+alg] = lpm.ComputeLoss(benchmark = benchmark,A = A_test, b = b_test, c = c_test, z = z_test, direct = False,\n",
    "                                                                                                    Theta = globals()[\"Theta_\"+alg], solved = True, solution = solution_test)\n",
    "    print(\"Loss\", np.average(globals()[\"loss_\"+alg]), \"Error\", np.average(globals()[\"error_\"+alg]), \"Normalized Error\", np.average(globals()[\"norm_err_\"+alg]))\n",
    "    mark = 0\n",
    "    for j in range(len(globals()[focus + \"_set\"])):\n",
    "        if globals()[focus] == globals()[focus + \"_set\"][j]:\n",
    "            mark = j\n",
    "    globals()[\"Loss_\" + alg][trial][mark] = np.average(globals()[\"loss_\" + alg])\n",
    "    globals()[\"Error_\" + alg][trial][mark] = np.average(globals()[\"error_\" + alg])\n",
    "    globals()[\"Norm_Err_\" + alg][trial][mark] = np.average(globals()[\"norm_err_\" + alg])\n",
    "    \n",
    "    \n",
    "    # Polynomial Kernelized Ridge Regression\n",
    "    alg = 'PolyRidge'\n",
    "    print(\"Method PolyKer Ridge Regression\")\n",
    "    print(\"Training samples\", N_train)\n",
    "    ker_z_train = lm.PolyKernel(z = z_train, benchmark_z = z_train, gamma=1.0, degree=3, coef0=1.0)\n",
    "    ker_z_test = lm.PolyKernel(z = z_test, benchmark_z = z_train, gamma=1.0, degree=3, coef0=1.0)\n",
    "    start = time.time()\n",
    "    globals()[\"Theta_\"+alg] = lm.RidgeRegression(A = A_train, b = b_train, c = c_train,  z = ker_z_train, regular_const = 1e-2)\n",
    "    globals()[\"time_\"+alg] = time.time() - start\n",
    "    print(\"Time Cost\", globals()[\"time_\"+alg])\n",
    "    globals()[\"loss_\"+alg], globals()[\"error_\"+alg], globals()[\"norm_err_\"+alg] = lpm.ComputeLoss(benchmark = benchmark,A = A_test, b = b_test, c = c_test, z = ker_z_test, direct = False,\n",
    "                                                                                                    Theta = globals()[\"Theta_\"+alg], solved = True, solution = solution_test)\n",
    "    print(\"Loss\", np.average(globals()[\"loss_\"+alg]), \"Error\", np.average(globals()[\"error_\"+alg]), \"Normalized Error\", np.average(globals()[\"norm_err_\"+alg]))\n",
    "    mark = 0\n",
    "    for j in range(len(globals()[focus + \"_set\"])):\n",
    "        if globals()[focus] == globals()[focus + \"_set\"][j]:\n",
    "            mark = j\n",
    "    globals()[\"Loss_\" + alg][trial][mark] = np.average(globals()[\"loss_\" + alg])\n",
    "    globals()[\"Error_\" + alg][trial][mark] = np.average(globals()[\"error_\" + alg])\n",
    "    globals()[\"Norm_Err_\" + alg][trial][mark] = np.average(globals()[\"norm_err_\" + alg])\n",
    "    \n",
    "    \n",
    "    # Rbf Kernelized Ridge Regression\n",
    "    alg = 'RbfRidge'\n",
    "    print(\"Method RbfKer Ridge Regression\")\n",
    "    print(\"Training samples\", N_train)\n",
    "    ker_z_train = lm.ExpKernel(z = z_train, benchmark_z = z_train, gamma=5e-1)\n",
    "    ker_z_test = lm.ExpKernel(z = z_test, benchmark_z = z_train, gamma=5e-1)\n",
    "    start = time.time()\n",
    "    globals()[\"Theta_\"+alg] = lm.RidgeRegression(A = A_train, b = b_train, c = c_train,  z = ker_z_train, regular_const = 1e-2)\n",
    "    globals()[\"time_\"+alg] = time.time() - start\n",
    "    print(\"Time Cost\", globals()[\"time_\"+alg])\n",
    "    globals()[\"loss_\"+alg], globals()[\"error_\"+alg], globals()[\"norm_err_\"+alg] = lpm.ComputeLoss(benchmark = benchmark,A = A_test, b = b_test, c = c_test, z = ker_z_test, direct = False,\n",
    "                                                                                                    Theta = globals()[\"Theta_\"+alg], solved = True, solution = solution_test)\n",
    "    print(\"Loss\", np.average(globals()[\"loss_\"+alg]), \"Error\", np.average(globals()[\"error_\"+alg]), \"Normalized Error\", np.average(globals()[\"norm_err_\"+alg]))\n",
    "    mark = 0\n",
    "    for j in range(len(globals()[focus + \"_set\"])):\n",
    "        if globals()[focus] == globals()[focus + \"_set\"][j]:\n",
    "            mark = j\n",
    "    globals()[\"Loss_\" + alg][trial][mark] = np.average(globals()[\"loss_\" + alg])\n",
    "    globals()[\"Error_\" + alg][trial][mark] = np.average(globals()[\"error_\" + alg])\n",
    "    globals()[\"Norm_Err_\" + alg][trial][mark] = np.average(globals()[\"norm_err_\" + alg])\n",
    "    \n",
    "    # SPO+\n",
    "    alg = 'SPO+'\n",
    "    print(\"Method SPO+\")\n",
    "    print(\"Training samples\", N_train)\n",
    "    start = time.time()\n",
    "    globals()[\"Theta_\"+alg] = lm.SPOplus(A = A_train, b = b_train, c = c_train, z = z_train, \n",
    "                                         regular_const = 1e-2, step_size = 1e-1, batch_size = 5, max_iter = 1e3, \n",
    "                                         solved = True, solution = solution_train)\n",
    "    globals()[\"time_\"+alg] = time.time() - start\n",
    "    print(\"Time Cost\", globals()[\"time_\"+alg])\n",
    "    globals()[\"loss_\"+alg], globals()[\"error_\"+alg], globals()[\"norm_err_\"+alg] = lpm.ComputeLoss(benchmark = benchmark,A = A_test, b = b_test, c = c_test, z = z_test, direct = False,\n",
    "                                                                                                    Theta = globals()[\"Theta_\"+alg], solved = True, solution = solution_test)\n",
    "    print(\"Loss\", np.average(globals()[\"loss_\"+alg]), \"Error\", np.average(globals()[\"error_\"+alg]), \"Normalized Error\", np.average(globals()[\"norm_err_\"+alg]))\n",
    "    mark = 0\n",
    "    for j in range(len(globals()[focus + \"_set\"])):\n",
    "        if globals()[focus] == globals()[focus + \"_set\"][j]:\n",
    "            mark = j\n",
    "    globals()[\"Loss_\" + alg][trial][mark] = np.average(globals()[\"loss_\" + alg])\n",
    "    globals()[\"Error_\" + alg][trial][mark] = np.average(globals()[\"error_\" + alg])\n",
    "    globals()[\"Norm_Err_\" + alg][trial][mark] = np.average(globals()[\"norm_err_\" + alg])\n",
    "    \n",
    "    \n",
    "    # Margin Learning\n",
    "    # Do not need true c\n",
    "    # Do not need solution x but basis\n",
    "    alg = 'ML'\n",
    "    print(\"Method SVM Margin Learning\")\n",
    "    print(\"Training samples\", N_train)\n",
    "    start = time.time()\n",
    "    globals()[\"Theta_\"+alg] = lm.MarginLearning(A = A_train, b = b_train, z = z_train, basic = basic_train, nonb = nonb_train, \n",
    "                                                regular_const = 1e-2)\n",
    "    globals()[\"time_\"+alg] = time.time() - start\n",
    "    print(\"Time Cost\", globals()[\"time_\"+alg])\n",
    "    globals()[\"loss_\"+alg], globals()[\"error_\"+alg], globals()[\"norm_err_\"+alg] = lpm.ComputeLoss(benchmark = benchmark,A = A_test, b = b_test, c = c_test, z = z_test, direct = False,\n",
    "                                                                                                    Theta = globals()[\"Theta_\"+alg], solved = True, solution = solution_test)\n",
    "    print(\"Loss\", np.average(globals()[\"loss_\"+alg]), \"Error\", np.average(globals()[\"error_\"+alg]), \"Normalized Error\", np.average(globals()[\"norm_err_\"+alg]))\n",
    "    mark = 0\n",
    "    for j in range(len(globals()[focus + \"_set\"])):\n",
    "        if globals()[focus] == globals()[focus + \"_set\"][j]:\n",
    "            mark = j\n",
    "    globals()[\"Loss_\" + alg][trial][mark] = np.average(globals()[\"loss_\" + alg])\n",
    "    globals()[\"Error_\" + alg][trial][mark] = np.average(globals()[\"error_\" + alg])\n",
    "    globals()[\"Norm_Err_\" + alg][trial][mark] = np.average(globals()[\"norm_err_\" + alg])\n",
    "    \n",
    "    \n",
    "    # Polynomial Kernelized Margin Learning\n",
    "    # Do not need true c\n",
    "    # Do not need solution x but basis\n",
    "    alg = 'PolyKer'\n",
    "    ker_z_train = lm.PolyKernel(z = z_train, benchmark_z = z_train, gamma=1.0, degree=2, coef0=1.0)\n",
    "    ker_z_test = lm.PolyKernel(z = z_test, benchmark_z = z_train, gamma=1.0, degree=2, coef0=1.0)\n",
    "    print(\"Method Poly-Kernelized SVM Margin Learning\")\n",
    "    print(\"Training samples\", N_train)\n",
    "    start = time.time()\n",
    "    globals()[\"Theta_\"+alg] = lm.KernelizedMarginLearning(A = A_train, b = b_train, z = ker_z_train, basic = basic_train, nonb = nonb_train,\n",
    "                                                          regular_const=1e-2)\n",
    "    globals()[\"time_\"+alg] = time.time() - start\n",
    "    print(\"Time Cost\", globals()[\"time_\"+alg])\n",
    "    globals()[\"loss_\"+alg], globals()[\"error_\"+alg], globals()[\"norm_err_\"+alg] = lpm.ComputeLoss(benchmark = benchmark,A = A_test, b = b_test, c = c_test, z = ker_z_test, direct = False,\n",
    "                                                                                                    Theta = globals()[\"Theta_\"+alg], solved = True, solution = solution_test)\n",
    "    print(\"Loss\", np.average(globals()[\"loss_\"+alg]), \"Error\", np.average(globals()[\"error_\"+alg]), \"Normalized Error\", np.average(globals()[\"norm_err_\"+alg]))\n",
    "    mark = 0\n",
    "    for j in range(len(globals()[focus + \"_set\"])):\n",
    "        if globals()[focus] == globals()[focus + \"_set\"][j]:\n",
    "            mark = j\n",
    "    globals()[\"Loss_\" + alg][trial][mark] = np.average(globals()[\"loss_\" + alg])\n",
    "    globals()[\"Error_\" + alg][trial][mark] = np.average(globals()[\"error_\" + alg])\n",
    "    globals()[\"Norm_Err_\" + alg][trial][mark] = np.average(globals()[\"norm_err_\" + alg])\n",
    "    \n",
    "    \n",
    "    # Rbf Kernelized Margin Learning\n",
    "    # Do not need true c\n",
    "    # Do not need solution x but basis\n",
    "    alg = 'ExpRbf'\n",
    "    ker_z_train = lm.ExpKernel(z = z_train, benchmark_z = z_train, gamma=2e0)\n",
    "    ker_z_test = lm.ExpKernel(z = z_test, benchmark_z = z_train, gamma=2e0)\n",
    "    print(\"Method Rbf Kernelized SVM Margin Learning\")\n",
    "    print(\"Training samples\", N_train)\n",
    "    start = time.time()\n",
    "    globals()[\"Theta_\"+alg] = lm.KernelizedMarginLearning(A = A_train, b = b_train, z = ker_z_train, basic = basic_train, nonb = nonb_train,\n",
    "                                                          regular_const=1e-3)\n",
    "    globals()[\"time_\"+alg] = time.time() - start\n",
    "    print(\"Time Cost\", globals()[\"time_\"+alg])\n",
    "    globals()[\"loss_\"+alg], globals()[\"error_\"+alg], globals()[\"norm_err_\"+alg] = lpm.ComputeLoss(benchmark = benchmark,A = A_test, b = b_test, c = c_test, z = ker_z_test, direct = False,\n",
    "                                                                                                    Theta = globals()[\"Theta_\"+alg], solved = True, solution = solution_test)\n",
    "    print(\"Loss\", np.average(globals()[\"loss_\"+alg]), \"Error\", np.average(globals()[\"error_\"+alg]), \"Normalized Error\", np.average(globals()[\"norm_err_\"+alg]))\n",
    "    mark = 0\n",
    "    for j in range(len(globals()[focus + \"_set\"])):\n",
    "        if globals()[focus] == globals()[focus + \"_set\"][j]:\n",
    "            mark = j\n",
    "    globals()[\"Loss_\" + alg][trial][mark] = np.average(globals()[\"loss_\" + alg])\n",
    "    globals()[\"Error_\" + alg][trial][mark] = np.average(globals()[\"error_\" + alg])\n",
    "    globals()[\"Norm_Err_\" + alg][trial][mark] = np.average(globals()[\"norm_err_\" + alg])\n",
    "    \n",
    "    "
   ]
  },
  {
   "cell_type": "code",
   "execution_count": 215,
   "id": "2e1d10d6",
   "metadata": {},
   "outputs": [
    {
     "data": {
      "image/png": "[encoded data removed]",
      "text/plain": [
       "<Figure size 432x288 with 1 Axes>"
      ]
     },
     "metadata": {
      "needs_background": "light"
     },
     "output_type": "display_data"
    },
    {
     "data": {
      "image/png": "[encoded data removed]",
      "text/plain": [
       "<Figure size 432x288 with 1 Axes>"
      ]
     },
     "metadata": {
      "needs_background": "light"
     },
     "output_type": "display_data"
    },
    {
     "data": {
      "image/png": "[encoded data removed]",
      "text/plain": [
       "<Figure size 432x288 with 1 Axes>"
      ]
     },
     "metadata": {
      "needs_background": "light"
     },
     "output_type": "display_data"
    }
   ],
   "source": [
    "# degree 1\n",
    "i = 0\n",
    "data_name = [\"Loss\", \"Error\", \"Norm_Err\"]\n",
    "for data in data_name:\n",
    "    tmp = np.zeros((total_trial, len(methods)))\n",
    "    for j in range(len(methods)):\n",
    "        tmp[:, j] = globals()[data+\"_\"+methods[j]].T[i]\n",
    "    np.savetxt(os.path.join('Rebuttal2_Degree', f\"{data}_degree_{degree_set[i]}\"), tmp)\n",
    "    sns.boxplot(data = tmp, showfliers = False)\n",
    "    plt.show()"
   ]
  },
  {
   "cell_type": "code",
   "execution_count": 235,
   "id": "2279aeeb",
   "metadata": {},
   "outputs": [
    {
     "data": {
      "image/png": "[encoded data removed]",
      "text/plain": [
       "<Figure size 432x288 with 1 Axes>"
      ]
     },
     "metadata": {
      "needs_background": "light"
     },
     "output_type": "display_data"
    },
    {
     "data": {
      "image/png": "[encoded data removed]",
      "text/plain": [
       "<Figure size 432x288 with 1 Axes>"
      ]
     },
     "metadata": {
      "needs_background": "light"
     },
     "output_type": "display_data"
    },
    {
     "data": {
      "image/png": "[encoded data removed]",
      "text/plain": [
       "<Figure size 432x288 with 1 Axes>"
      ]
     },
     "metadata": {
      "needs_background": "light"
     },
     "output_type": "display_data"
    }
   ],
   "source": [
    "# degree 2\n",
    "i = 1\n",
    "data_name = [\"Loss\", \"Error\", \"Norm_Err\"]\n",
    "for data in data_name:\n",
    "    tmp = np.zeros((total_trial, len(methods)))\n",
    "    for j in range(len(methods)):\n",
    "        tmp[:, j] = globals()[data+\"_\"+methods[j]].T[i]\n",
    "    np.savetxt(os.path.join('Rebuttal2_Degree', f\"{data}_degree_{degree_set[i]}\"), tmp)\n",
    "    sns.boxplot(data = tmp, showfliers = False)\n",
    "    plt.show()"
   ]
  },
  {
   "cell_type": "code",
   "execution_count": 197,
   "id": "503402c1",
   "metadata": {},
   "outputs": [
    {
     "data": {
      "image/png": "[encoded data removed]",
      "text/plain": [
       "<Figure size 432x288 with 1 Axes>"
      ]
     },
     "metadata": {
      "needs_background": "light"
     },
     "output_type": "display_data"
    },
    {
     "data": {
      "image/png": "[encoded data removed]",
      "text/plain": [
       "<Figure size 432x288 with 1 Axes>"
      ]
     },
     "metadata": {
      "needs_background": "light"
     },
     "output_type": "display_data"
    },
    {
     "data": {
      "image/png": "[encoded data removed]",
      "text/plain": [
       "<Figure size 432x288 with 1 Axes>"
      ]
     },
     "metadata": {
      "needs_background": "light"
     },
     "output_type": "display_data"
    }
   ],
   "source": [
    "# degree 4\n",
    "i = 2\n",
    "data_name = [\"Loss\", \"Error\", \"Norm_Err\"]\n",
    "for data in data_name:\n",
    "    tmp = np.zeros((total_trial, len(methods)))\n",
    "    for j in range(len(methods)):\n",
    "        tmp[:, j] = globals()[data+\"_\"+methods[j]].T[i]\n",
    "    np.savetxt(os.path.join('Rebuttal2_Degree', f\"{data}_degree_{degree_set[i]}\"), tmp)\n",
    "    sns.boxplot(data = tmp, showfliers = False)\n",
    "    plt.show()"
   ]
  },
  {
   "cell_type": "code",
   "execution_count": 269,
   "id": "8f277dc9",
   "metadata": {},
   "outputs": [
    {
     "data": {
      "image/png": "[encoded data removed]",
      "text/plain": [
       "<Figure size 432x288 with 1 Axes>"
      ]
     },
     "metadata": {
      "needs_background": "light"
     },
     "output_type": "display_data"
    },
    {
     "data": {
      "image/png": "[encoded data removed]",
      "text/plain": [
       "<Figure size 432x288 with 1 Axes>"
      ]
     },
     "metadata": {
      "needs_background": "light"
     },
     "output_type": "display_data"
    },
    {
     "data": {
      "image/png": "[encoded data removed]",
      "text/plain": [
       "<Figure size 432x288 with 1 Axes>"
      ]
     },
     "metadata": {
      "needs_background": "light"
     },
     "output_type": "display_data"
    }
   ],
   "source": [
    "# degree 6\n",
    "i = 3\n",
    "data_name = [\"Loss\", \"Error\", \"Norm_Err\"]\n",
    "for data in data_name:\n",
    "    tmp = np.zeros((total_trial, len(methods)))\n",
    "    for j in range(len(methods)):\n",
    "        tmp[:, j] = globals()[data+\"_\"+methods[j]].T[i]\n",
    "    np.savetxt(os.path.join('Rebuttal2_Degree', f\"{data}_degree_{degree_set[i]}\"), tmp)\n",
    "    sns.boxplot(data = tmp, showfliers = False)\n",
    "    plt.show()"
   ]
  }
 ],
 "metadata": {
  "kernelspec": {
   "display_name": "Python 3 (ipykernel)",
   "language": "python",
   "name": "python3"
  },
  "language_info": {
   "codemirror_mode": {
    "name": "ipython",
    "version": 3
   },
   "file_extension": ".py",
   "mimetype": "text/x-python",
   "name": "python",
   "nbconvert_exporter": "python",
   "pygments_lexer": "ipython3",
   "version": "3.8.16"
  }
 },
 "nbformat": 4,
 "nbformat_minor": 5
}
